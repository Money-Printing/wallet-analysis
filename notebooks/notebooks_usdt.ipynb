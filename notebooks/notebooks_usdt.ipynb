{
 "cells": [
  {
   "cell_type": "code",
   "execution_count": 9,
   "metadata": {
    "collapsed": true
   },
   "outputs": [],
   "source": [
    "from undetected_chromedriver import Chrome, ChromeOptions\n",
    "from selenium.webdriver.common.by import By\n",
    "\n",
    "from time import sleep\n",
    "\n",
    "from pandas import DataFrame, read_csv"
   ]
  },
  {
   "cell_type": "code",
   "execution_count": 2,
   "outputs": [],
   "source": [
    "chrome_options = ChromeOptions()\n",
    "chrome_options.add_argument(\"--headless\")\n",
    "driver = Chrome(options=chrome_options)"
   ],
   "metadata": {
    "collapsed": false,
    "pycharm": {
     "name": "#%%\n"
    }
   }
  },
  {
   "cell_type": "code",
   "execution_count": 3,
   "outputs": [],
   "source": [
    "driver.get(\"https://wallet.tether.to/richlist\")\n",
    "sleep(1)"
   ],
   "metadata": {
    "collapsed": false,
    "pycharm": {
     "name": "#%%\n"
    }
   }
  },
  {
   "cell_type": "code",
   "execution_count": 4,
   "outputs": [
    {
     "data": {
      "text/plain": "51"
     },
     "execution_count": 4,
     "metadata": {},
     "output_type": "execute_result"
    }
   ],
   "source": [
    "rows = driver.find_elements(By.TAG_NAME, \"tr\")\n",
    "len(rows)"
   ],
   "metadata": {
    "collapsed": false,
    "pycharm": {
     "name": "#%%\n"
    }
   }
  },
  {
   "cell_type": "code",
   "execution_count": 5,
   "outputs": [
    {
     "data": {
      "text/plain": "Empty DataFrame\nColumns: [Address, Balance, Protocol, Remark]\nIndex: []",
      "text/html": "<div>\n<style scoped>\n    .dataframe tbody tr th:only-of-type {\n        vertical-align: middle;\n    }\n\n    .dataframe tbody tr th {\n        vertical-align: top;\n    }\n\n    .dataframe thead th {\n        text-align: right;\n    }\n</style>\n<table border=\"1\" class=\"dataframe\">\n  <thead>\n    <tr style=\"text-align: right;\">\n      <th></th>\n      <th>Address</th>\n      <th>Balance</th>\n      <th>Protocol</th>\n      <th>Remark</th>\n    </tr>\n  </thead>\n  <tbody>\n  </tbody>\n</table>\n</div>"
     },
     "execution_count": 5,
     "metadata": {},
     "output_type": "execute_result"
    }
   ],
   "source": [
    "top_address = DataFrame(columns=list(map(lambda x: x.text, rows[0].find_elements(By.TAG_NAME, \"th\"))))\n",
    "top_address"
   ],
   "metadata": {
    "collapsed": false,
    "pycharm": {
     "name": "#%%\n"
    }
   }
  },
  {
   "cell_type": "code",
   "execution_count": 6,
   "outputs": [
    {
     "data": {
      "text/plain": "                                       Address        Balance Protocol  \\\n0           TWd4WrZ9wn84f5x1hZhL4DHvk738ns5jwb  8,352,381,507    trc20   \n1           TMuA6YqfCeX8EhbfYEg5y7S4DqzSJireY9  7,000,000,001    trc20   \n2           TV6MuMXfmLbBqPZvBHdwFsDnQeVfnmiuSi  2,496,541,220    trc20   \n3   0x5754284f345afc66a98fbb0a0afe71e0f007b949  2,413,396,944    erc20   \n4           TT1DyeqXaaJkt6UhVYFWUXBXknaXnBudTK  2,370,000,000    trc20   \n5   0xbebc44782c7db0a1a60cb6fe97d0b483032ff1c7  1,863,524,809    erc20   \n6   0xa929022c9107643515f5c777ce9a910f0d1e490c  1,799,936,287    erc20   \n7           TM1zzNDZD2DPASbKcgdVoTYhfmYgtfwx9R  1,633,202,568    trc20   \n8   0x47ac0fb4f2d84898e4d9e7b4dab3c24507a6d503  1,350,000,115    erc20   \n9           TRYL7PKCG4b4xRCM554Q5J6o8f1UjUmfnY  1,143,275,352    trc20   \n10  0x5041ed759dd4afc3a72b8192c143f72f4724081a    950,965,656    erc20   \n11          TUAVzJ916T7z6oqpdCCaTv6ipC2mmBMJev    929,999,875    trc20   \n12  0xd6216fc19db775df9774a6e33526131da7d19a2c    866,664,734    erc20   \n13          TNaRAoLUyYEV2uF7GUrzSjRQTU8v5ZJ5VR    845,665,257    trc20   \n14  0xe78388b4ce79068e89bf8aa7f218ef6b9ab0e9d0    814,605,284    erc20   \n15  0xa7a93fd0a276fc1c0197a5b5623ed117786eed06    561,893,079    erc20   \n16          TKHuVq1oKVruCGLvqVexFs6dawKv6fQgFs    478,458,238    trc20   \n17          1NTMakcgVwQpMdGxRQnFKyb3G1FAJysSfz    434,260,601     omni   \n18          TYDzsYUEpvnYmQk4zGP9sWWcTEd2MiAtW6    398,999,413    trc20   \n19  0x40ec5b33f54e0e8a33a975908c5ba1c14e5bbbdf    357,288,607    erc20   \n20  0xd51a44d3fae010294c616388b506acda1bfaae46    301,577,759    erc20   \n21          TFK83A41pUspJ1Sd766eU2cD2ktufz9tth    286,854,047    trc20   \n22          TTd9qHyjqiUkfTxe3gotbuTMpjU8LEbpkN    279,336,726    trc20   \n23  0x89e51fa8ca5d66cd220baed62ed01e8951aa7c40    277,134,605    erc20   \n24          TRfb9GWAwAdBHojbeafP4zHtL4DSntzPgc    269,391,059    trc20   \n25  0xf650c3d88d12db855b8bf7d11be6c55a4e07dcc9    250,280,301    erc20   \n26  0xf5565f298d47c95de222d0e242a69d2711fe3e89    247,579,690    erc20   \n27  0x0548f59fee79f8832c299e01dca5c76f034f558e    244,795,183    erc20   \n28  0x1bf68a9d1eaee7826b3593c20a0ca93293cb489a    237,895,298    erc20   \n29  0x23ddd3e3692d1861ed57ede224608875809e127f    204,167,907    erc20   \n30          TXJgMdjVX5dKiQaUi9QobwNxtSQaFqccvd    199,567,747    trc20   \n31  0xcee284f754e854890e311e3280b767f80797180d    197,379,890    erc20   \n32  0xc564ee9f21ed8a2d8e7e76c085740d5e4c5fafbe    180,260,659    erc20   \n33  0x48759f220ed983db51fa7a8c0d2aab8f3ce4166a    175,775,221    erc20   \n34          TKcEU8ekq2ZoFzLSGFYCUY6aocJBX9X31b    167,177,338    trc20   \n35          TM6JqAKu4Wnxm99Gps2ZGrrD6QYbdthkpg    164,799,994    trc20   \n36          TGxFNkH6V79kGF5ugiEfsYVfpV9nZNnpji    160,746,747    trc20   \n37  0x6002b1dcb26e7b1aa797a17551c6f487923299d7    153,939,622    erc20   \n38  0x0d0707963952f2fba59dd06f2b425ace40b492fe    148,898,720    erc20   \n39  0x742d35cc6634c0532925a3b844bc454e4438f44e    148,483,376    erc20   \n40  0x28c6c06298d514db089934071355e5743bf21d60    144,714,269    erc20   \n41          TAzsQ9Gx8eqFNFSKbeXrbi45CuVPHzA8wr    141,705,540    trc20   \n42  0xeea81c4416d71cef071224611359f6f99a4c4294    140,833,319    erc20   \n43  0x7d812b62dc15e6f4073eba8a2ba8db19c4e40704    139,953,536    erc20   \n44  0x6262998ced04146fa42253a5c0af90ca02dfd2a3    138,995,597    erc20   \n45          TYASr5UV6HEcXatwdFQfmLVUqQQQMUxHLS    130,745,390    trc20   \n46          TQrY8tryqsYVCYS3MFbtffiPp2ccyn4STm    126,586,122    trc20   \n47          TBA6CypYJizwA9XdC7Ubgc5F1bxrQ7SqPt    125,377,107    trc20   \n48          TJDENsfBJs4RFETt1X1W8wMDc8M5XnJhCe    120,934,856    trc20   \n49  0x3ed3b47dd13ec9a98b44e6204a523e766b225811    120,767,962    erc20   \n\n                 Remark  \n0   Binance Cold Wallet  \n1   Binance Cold Wallet  \n2                        \n3       Tether Treasury  \n4                        \n5                        \n6                        \n7                        \n8                        \n9                        \n10                       \n11                       \n12                       \n13                Huobi  \n14                       \n15                       \n16      Tether Treasury  \n17      Tether Treasury  \n18                       \n19                       \n20                       \n21                       \n22                       \n23                       \n24                       \n25                       \n26                       \n27                       \n28                       \n29                       \n30                       \n31                       \n32                       \n33                       \n34                       \n35                       \n36                       \n37                       \n38                       \n39                       \n40                       \n41                       \n42                       \n43                       \n44                       \n45                       \n46                       \n47                       \n48                       \n49                       ",
      "text/html": "<div>\n<style scoped>\n    .dataframe tbody tr th:only-of-type {\n        vertical-align: middle;\n    }\n\n    .dataframe tbody tr th {\n        vertical-align: top;\n    }\n\n    .dataframe thead th {\n        text-align: right;\n    }\n</style>\n<table border=\"1\" class=\"dataframe\">\n  <thead>\n    <tr style=\"text-align: right;\">\n      <th></th>\n      <th>Address</th>\n      <th>Balance</th>\n      <th>Protocol</th>\n      <th>Remark</th>\n    </tr>\n  </thead>\n  <tbody>\n    <tr>\n      <th>0</th>\n      <td>TWd4WrZ9wn84f5x1hZhL4DHvk738ns5jwb</td>\n      <td>8,352,381,507</td>\n      <td>trc20</td>\n      <td>Binance Cold Wallet</td>\n    </tr>\n    <tr>\n      <th>1</th>\n      <td>TMuA6YqfCeX8EhbfYEg5y7S4DqzSJireY9</td>\n      <td>7,000,000,001</td>\n      <td>trc20</td>\n      <td>Binance Cold Wallet</td>\n    </tr>\n    <tr>\n      <th>2</th>\n      <td>TV6MuMXfmLbBqPZvBHdwFsDnQeVfnmiuSi</td>\n      <td>2,496,541,220</td>\n      <td>trc20</td>\n      <td></td>\n    </tr>\n    <tr>\n      <th>3</th>\n      <td>0x5754284f345afc66a98fbb0a0afe71e0f007b949</td>\n      <td>2,413,396,944</td>\n      <td>erc20</td>\n      <td>Tether Treasury</td>\n    </tr>\n    <tr>\n      <th>4</th>\n      <td>TT1DyeqXaaJkt6UhVYFWUXBXknaXnBudTK</td>\n      <td>2,370,000,000</td>\n      <td>trc20</td>\n      <td></td>\n    </tr>\n    <tr>\n      <th>5</th>\n      <td>0xbebc44782c7db0a1a60cb6fe97d0b483032ff1c7</td>\n      <td>1,863,524,809</td>\n      <td>erc20</td>\n      <td></td>\n    </tr>\n    <tr>\n      <th>6</th>\n      <td>0xa929022c9107643515f5c777ce9a910f0d1e490c</td>\n      <td>1,799,936,287</td>\n      <td>erc20</td>\n      <td></td>\n    </tr>\n    <tr>\n      <th>7</th>\n      <td>TM1zzNDZD2DPASbKcgdVoTYhfmYgtfwx9R</td>\n      <td>1,633,202,568</td>\n      <td>trc20</td>\n      <td></td>\n    </tr>\n    <tr>\n      <th>8</th>\n      <td>0x47ac0fb4f2d84898e4d9e7b4dab3c24507a6d503</td>\n      <td>1,350,000,115</td>\n      <td>erc20</td>\n      <td></td>\n    </tr>\n    <tr>\n      <th>9</th>\n      <td>TRYL7PKCG4b4xRCM554Q5J6o8f1UjUmfnY</td>\n      <td>1,143,275,352</td>\n      <td>trc20</td>\n      <td></td>\n    </tr>\n    <tr>\n      <th>10</th>\n      <td>0x5041ed759dd4afc3a72b8192c143f72f4724081a</td>\n      <td>950,965,656</td>\n      <td>erc20</td>\n      <td></td>\n    </tr>\n    <tr>\n      <th>11</th>\n      <td>TUAVzJ916T7z6oqpdCCaTv6ipC2mmBMJev</td>\n      <td>929,999,875</td>\n      <td>trc20</td>\n      <td></td>\n    </tr>\n    <tr>\n      <th>12</th>\n      <td>0xd6216fc19db775df9774a6e33526131da7d19a2c</td>\n      <td>866,664,734</td>\n      <td>erc20</td>\n      <td></td>\n    </tr>\n    <tr>\n      <th>13</th>\n      <td>TNaRAoLUyYEV2uF7GUrzSjRQTU8v5ZJ5VR</td>\n      <td>845,665,257</td>\n      <td>trc20</td>\n      <td>Huobi</td>\n    </tr>\n    <tr>\n      <th>14</th>\n      <td>0xe78388b4ce79068e89bf8aa7f218ef6b9ab0e9d0</td>\n      <td>814,605,284</td>\n      <td>erc20</td>\n      <td></td>\n    </tr>\n    <tr>\n      <th>15</th>\n      <td>0xa7a93fd0a276fc1c0197a5b5623ed117786eed06</td>\n      <td>561,893,079</td>\n      <td>erc20</td>\n      <td></td>\n    </tr>\n    <tr>\n      <th>16</th>\n      <td>TKHuVq1oKVruCGLvqVexFs6dawKv6fQgFs</td>\n      <td>478,458,238</td>\n      <td>trc20</td>\n      <td>Tether Treasury</td>\n    </tr>\n    <tr>\n      <th>17</th>\n      <td>1NTMakcgVwQpMdGxRQnFKyb3G1FAJysSfz</td>\n      <td>434,260,601</td>\n      <td>omni</td>\n      <td>Tether Treasury</td>\n    </tr>\n    <tr>\n      <th>18</th>\n      <td>TYDzsYUEpvnYmQk4zGP9sWWcTEd2MiAtW6</td>\n      <td>398,999,413</td>\n      <td>trc20</td>\n      <td></td>\n    </tr>\n    <tr>\n      <th>19</th>\n      <td>0x40ec5b33f54e0e8a33a975908c5ba1c14e5bbbdf</td>\n      <td>357,288,607</td>\n      <td>erc20</td>\n      <td></td>\n    </tr>\n    <tr>\n      <th>20</th>\n      <td>0xd51a44d3fae010294c616388b506acda1bfaae46</td>\n      <td>301,577,759</td>\n      <td>erc20</td>\n      <td></td>\n    </tr>\n    <tr>\n      <th>21</th>\n      <td>TFK83A41pUspJ1Sd766eU2cD2ktufz9tth</td>\n      <td>286,854,047</td>\n      <td>trc20</td>\n      <td></td>\n    </tr>\n    <tr>\n      <th>22</th>\n      <td>TTd9qHyjqiUkfTxe3gotbuTMpjU8LEbpkN</td>\n      <td>279,336,726</td>\n      <td>trc20</td>\n      <td></td>\n    </tr>\n    <tr>\n      <th>23</th>\n      <td>0x89e51fa8ca5d66cd220baed62ed01e8951aa7c40</td>\n      <td>277,134,605</td>\n      <td>erc20</td>\n      <td></td>\n    </tr>\n    <tr>\n      <th>24</th>\n      <td>TRfb9GWAwAdBHojbeafP4zHtL4DSntzPgc</td>\n      <td>269,391,059</td>\n      <td>trc20</td>\n      <td></td>\n    </tr>\n    <tr>\n      <th>25</th>\n      <td>0xf650c3d88d12db855b8bf7d11be6c55a4e07dcc9</td>\n      <td>250,280,301</td>\n      <td>erc20</td>\n      <td></td>\n    </tr>\n    <tr>\n      <th>26</th>\n      <td>0xf5565f298d47c95de222d0e242a69d2711fe3e89</td>\n      <td>247,579,690</td>\n      <td>erc20</td>\n      <td></td>\n    </tr>\n    <tr>\n      <th>27</th>\n      <td>0x0548f59fee79f8832c299e01dca5c76f034f558e</td>\n      <td>244,795,183</td>\n      <td>erc20</td>\n      <td></td>\n    </tr>\n    <tr>\n      <th>28</th>\n      <td>0x1bf68a9d1eaee7826b3593c20a0ca93293cb489a</td>\n      <td>237,895,298</td>\n      <td>erc20</td>\n      <td></td>\n    </tr>\n    <tr>\n      <th>29</th>\n      <td>0x23ddd3e3692d1861ed57ede224608875809e127f</td>\n      <td>204,167,907</td>\n      <td>erc20</td>\n      <td></td>\n    </tr>\n    <tr>\n      <th>30</th>\n      <td>TXJgMdjVX5dKiQaUi9QobwNxtSQaFqccvd</td>\n      <td>199,567,747</td>\n      <td>trc20</td>\n      <td></td>\n    </tr>\n    <tr>\n      <th>31</th>\n      <td>0xcee284f754e854890e311e3280b767f80797180d</td>\n      <td>197,379,890</td>\n      <td>erc20</td>\n      <td></td>\n    </tr>\n    <tr>\n      <th>32</th>\n      <td>0xc564ee9f21ed8a2d8e7e76c085740d5e4c5fafbe</td>\n      <td>180,260,659</td>\n      <td>erc20</td>\n      <td></td>\n    </tr>\n    <tr>\n      <th>33</th>\n      <td>0x48759f220ed983db51fa7a8c0d2aab8f3ce4166a</td>\n      <td>175,775,221</td>\n      <td>erc20</td>\n      <td></td>\n    </tr>\n    <tr>\n      <th>34</th>\n      <td>TKcEU8ekq2ZoFzLSGFYCUY6aocJBX9X31b</td>\n      <td>167,177,338</td>\n      <td>trc20</td>\n      <td></td>\n    </tr>\n    <tr>\n      <th>35</th>\n      <td>TM6JqAKu4Wnxm99Gps2ZGrrD6QYbdthkpg</td>\n      <td>164,799,994</td>\n      <td>trc20</td>\n      <td></td>\n    </tr>\n    <tr>\n      <th>36</th>\n      <td>TGxFNkH6V79kGF5ugiEfsYVfpV9nZNnpji</td>\n      <td>160,746,747</td>\n      <td>trc20</td>\n      <td></td>\n    </tr>\n    <tr>\n      <th>37</th>\n      <td>0x6002b1dcb26e7b1aa797a17551c6f487923299d7</td>\n      <td>153,939,622</td>\n      <td>erc20</td>\n      <td></td>\n    </tr>\n    <tr>\n      <th>38</th>\n      <td>0x0d0707963952f2fba59dd06f2b425ace40b492fe</td>\n      <td>148,898,720</td>\n      <td>erc20</td>\n      <td></td>\n    </tr>\n    <tr>\n      <th>39</th>\n      <td>0x742d35cc6634c0532925a3b844bc454e4438f44e</td>\n      <td>148,483,376</td>\n      <td>erc20</td>\n      <td></td>\n    </tr>\n    <tr>\n      <th>40</th>\n      <td>0x28c6c06298d514db089934071355e5743bf21d60</td>\n      <td>144,714,269</td>\n      <td>erc20</td>\n      <td></td>\n    </tr>\n    <tr>\n      <th>41</th>\n      <td>TAzsQ9Gx8eqFNFSKbeXrbi45CuVPHzA8wr</td>\n      <td>141,705,540</td>\n      <td>trc20</td>\n      <td></td>\n    </tr>\n    <tr>\n      <th>42</th>\n      <td>0xeea81c4416d71cef071224611359f6f99a4c4294</td>\n      <td>140,833,319</td>\n      <td>erc20</td>\n      <td></td>\n    </tr>\n    <tr>\n      <th>43</th>\n      <td>0x7d812b62dc15e6f4073eba8a2ba8db19c4e40704</td>\n      <td>139,953,536</td>\n      <td>erc20</td>\n      <td></td>\n    </tr>\n    <tr>\n      <th>44</th>\n      <td>0x6262998ced04146fa42253a5c0af90ca02dfd2a3</td>\n      <td>138,995,597</td>\n      <td>erc20</td>\n      <td></td>\n    </tr>\n    <tr>\n      <th>45</th>\n      <td>TYASr5UV6HEcXatwdFQfmLVUqQQQMUxHLS</td>\n      <td>130,745,390</td>\n      <td>trc20</td>\n      <td></td>\n    </tr>\n    <tr>\n      <th>46</th>\n      <td>TQrY8tryqsYVCYS3MFbtffiPp2ccyn4STm</td>\n      <td>126,586,122</td>\n      <td>trc20</td>\n      <td></td>\n    </tr>\n    <tr>\n      <th>47</th>\n      <td>TBA6CypYJizwA9XdC7Ubgc5F1bxrQ7SqPt</td>\n      <td>125,377,107</td>\n      <td>trc20</td>\n      <td></td>\n    </tr>\n    <tr>\n      <th>48</th>\n      <td>TJDENsfBJs4RFETt1X1W8wMDc8M5XnJhCe</td>\n      <td>120,934,856</td>\n      <td>trc20</td>\n      <td></td>\n    </tr>\n    <tr>\n      <th>49</th>\n      <td>0x3ed3b47dd13ec9a98b44e6204a523e766b225811</td>\n      <td>120,767,962</td>\n      <td>erc20</td>\n      <td></td>\n    </tr>\n  </tbody>\n</table>\n</div>"
     },
     "execution_count": 6,
     "metadata": {},
     "output_type": "execute_result"
    }
   ],
   "source": [
    "for row in rows[1:]:\n",
    "\tidx = len(top_address)\n",
    "\ttop_address.loc[idx] = list(map(lambda x: x.text, row.find_elements(By.TAG_NAME, \"td\")))\n",
    "top_address"
   ],
   "metadata": {
    "collapsed": false,
    "pycharm": {
     "name": "#%%\n"
    }
   }
  },
  {
   "cell_type": "code",
   "execution_count": 7,
   "outputs": [],
   "source": [
    "driver.quit()"
   ],
   "metadata": {
    "collapsed": false,
    "pycharm": {
     "name": "#%%\n"
    }
   }
  },
  {
   "cell_type": "code",
   "execution_count": 8,
   "outputs": [],
   "source": [
    "top_address.to_csv('~/repos/jarvis-data/usdt-top-wallets.csv')"
   ],
   "metadata": {
    "collapsed": false,
    "pycharm": {
     "name": "#%%\n"
    }
   }
  },
  {
   "cell_type": "code",
   "execution_count": 12,
   "outputs": [
    {
     "data": {
      "text/plain": "                                       Address        Balance Protocol  \\\n0           TWd4WrZ9wn84f5x1hZhL4DHvk738ns5jwb  8,352,381,507    trc20   \n1           TMuA6YqfCeX8EhbfYEg5y7S4DqzSJireY9  7,000,000,001    trc20   \n2           TV6MuMXfmLbBqPZvBHdwFsDnQeVfnmiuSi  2,496,541,220    trc20   \n3   0x5754284f345afc66a98fbb0a0afe71e0f007b949  2,413,396,944    erc20   \n4           TT1DyeqXaaJkt6UhVYFWUXBXknaXnBudTK  2,370,000,000    trc20   \n5   0xbebc44782c7db0a1a60cb6fe97d0b483032ff1c7  1,863,524,809    erc20   \n6   0xa929022c9107643515f5c777ce9a910f0d1e490c  1,799,936,287    erc20   \n7           TM1zzNDZD2DPASbKcgdVoTYhfmYgtfwx9R  1,633,202,568    trc20   \n8   0x47ac0fb4f2d84898e4d9e7b4dab3c24507a6d503  1,350,000,115    erc20   \n9           TRYL7PKCG4b4xRCM554Q5J6o8f1UjUmfnY  1,143,275,352    trc20   \n10  0x5041ed759dd4afc3a72b8192c143f72f4724081a    950,965,656    erc20   \n11          TUAVzJ916T7z6oqpdCCaTv6ipC2mmBMJev    929,999,875    trc20   \n12  0xd6216fc19db775df9774a6e33526131da7d19a2c    866,664,734    erc20   \n13          TNaRAoLUyYEV2uF7GUrzSjRQTU8v5ZJ5VR    845,665,257    trc20   \n14  0xe78388b4ce79068e89bf8aa7f218ef6b9ab0e9d0    814,605,284    erc20   \n15  0xa7a93fd0a276fc1c0197a5b5623ed117786eed06    561,893,079    erc20   \n16          TKHuVq1oKVruCGLvqVexFs6dawKv6fQgFs    478,458,238    trc20   \n17          1NTMakcgVwQpMdGxRQnFKyb3G1FAJysSfz    434,260,601     omni   \n18          TYDzsYUEpvnYmQk4zGP9sWWcTEd2MiAtW6    398,999,413    trc20   \n19  0x40ec5b33f54e0e8a33a975908c5ba1c14e5bbbdf    357,288,607    erc20   \n20  0xd51a44d3fae010294c616388b506acda1bfaae46    301,577,759    erc20   \n21          TFK83A41pUspJ1Sd766eU2cD2ktufz9tth    286,854,047    trc20   \n22          TTd9qHyjqiUkfTxe3gotbuTMpjU8LEbpkN    279,336,726    trc20   \n23  0x89e51fa8ca5d66cd220baed62ed01e8951aa7c40    277,134,605    erc20   \n24          TRfb9GWAwAdBHojbeafP4zHtL4DSntzPgc    269,391,059    trc20   \n25  0xf650c3d88d12db855b8bf7d11be6c55a4e07dcc9    250,280,301    erc20   \n26  0xf5565f298d47c95de222d0e242a69d2711fe3e89    247,579,690    erc20   \n27  0x0548f59fee79f8832c299e01dca5c76f034f558e    244,795,183    erc20   \n28  0x1bf68a9d1eaee7826b3593c20a0ca93293cb489a    237,895,298    erc20   \n29  0x23ddd3e3692d1861ed57ede224608875809e127f    204,167,907    erc20   \n30          TXJgMdjVX5dKiQaUi9QobwNxtSQaFqccvd    199,567,747    trc20   \n31  0xcee284f754e854890e311e3280b767f80797180d    197,379,890    erc20   \n32  0xc564ee9f21ed8a2d8e7e76c085740d5e4c5fafbe    180,260,659    erc20   \n33  0x48759f220ed983db51fa7a8c0d2aab8f3ce4166a    175,775,221    erc20   \n34          TKcEU8ekq2ZoFzLSGFYCUY6aocJBX9X31b    167,177,338    trc20   \n35          TM6JqAKu4Wnxm99Gps2ZGrrD6QYbdthkpg    164,799,994    trc20   \n36          TGxFNkH6V79kGF5ugiEfsYVfpV9nZNnpji    160,746,747    trc20   \n37  0x6002b1dcb26e7b1aa797a17551c6f487923299d7    153,939,622    erc20   \n38  0x0d0707963952f2fba59dd06f2b425ace40b492fe    148,898,720    erc20   \n39  0x742d35cc6634c0532925a3b844bc454e4438f44e    148,483,376    erc20   \n40  0x28c6c06298d514db089934071355e5743bf21d60    144,714,269    erc20   \n41          TAzsQ9Gx8eqFNFSKbeXrbi45CuVPHzA8wr    141,705,540    trc20   \n42  0xeea81c4416d71cef071224611359f6f99a4c4294    140,833,319    erc20   \n43  0x7d812b62dc15e6f4073eba8a2ba8db19c4e40704    139,953,536    erc20   \n44  0x6262998ced04146fa42253a5c0af90ca02dfd2a3    138,995,597    erc20   \n45          TYASr5UV6HEcXatwdFQfmLVUqQQQMUxHLS    130,745,390    trc20   \n46          TQrY8tryqsYVCYS3MFbtffiPp2ccyn4STm    126,586,122    trc20   \n47          TBA6CypYJizwA9XdC7Ubgc5F1bxrQ7SqPt    125,377,107    trc20   \n48          TJDENsfBJs4RFETt1X1W8wMDc8M5XnJhCe    120,934,856    trc20   \n49  0x3ed3b47dd13ec9a98b44e6204a523e766b225811    120,767,962    erc20   \n\n                 Remark  \n0   Binance Cold Wallet  \n1   Binance Cold Wallet  \n2                   NaN  \n3       Tether Treasury  \n4                   NaN  \n5                   NaN  \n6                   NaN  \n7                   NaN  \n8                   NaN  \n9                   NaN  \n10                  NaN  \n11                  NaN  \n12                  NaN  \n13                Huobi  \n14                  NaN  \n15                  NaN  \n16      Tether Treasury  \n17      Tether Treasury  \n18                  NaN  \n19                  NaN  \n20                  NaN  \n21                  NaN  \n22                  NaN  \n23                  NaN  \n24                  NaN  \n25                  NaN  \n26                  NaN  \n27                  NaN  \n28                  NaN  \n29                  NaN  \n30                  NaN  \n31                  NaN  \n32                  NaN  \n33                  NaN  \n34                  NaN  \n35                  NaN  \n36                  NaN  \n37                  NaN  \n38                  NaN  \n39                  NaN  \n40                  NaN  \n41                  NaN  \n42                  NaN  \n43                  NaN  \n44                  NaN  \n45                  NaN  \n46                  NaN  \n47                  NaN  \n48                  NaN  \n49                  NaN  ",
      "text/html": "<div>\n<style scoped>\n    .dataframe tbody tr th:only-of-type {\n        vertical-align: middle;\n    }\n\n    .dataframe tbody tr th {\n        vertical-align: top;\n    }\n\n    .dataframe thead th {\n        text-align: right;\n    }\n</style>\n<table border=\"1\" class=\"dataframe\">\n  <thead>\n    <tr style=\"text-align: right;\">\n      <th></th>\n      <th>Address</th>\n      <th>Balance</th>\n      <th>Protocol</th>\n      <th>Remark</th>\n    </tr>\n  </thead>\n  <tbody>\n    <tr>\n      <th>0</th>\n      <td>TWd4WrZ9wn84f5x1hZhL4DHvk738ns5jwb</td>\n      <td>8,352,381,507</td>\n      <td>trc20</td>\n      <td>Binance Cold Wallet</td>\n    </tr>\n    <tr>\n      <th>1</th>\n      <td>TMuA6YqfCeX8EhbfYEg5y7S4DqzSJireY9</td>\n      <td>7,000,000,001</td>\n      <td>trc20</td>\n      <td>Binance Cold Wallet</td>\n    </tr>\n    <tr>\n      <th>2</th>\n      <td>TV6MuMXfmLbBqPZvBHdwFsDnQeVfnmiuSi</td>\n      <td>2,496,541,220</td>\n      <td>trc20</td>\n      <td>NaN</td>\n    </tr>\n    <tr>\n      <th>3</th>\n      <td>0x5754284f345afc66a98fbb0a0afe71e0f007b949</td>\n      <td>2,413,396,944</td>\n      <td>erc20</td>\n      <td>Tether Treasury</td>\n    </tr>\n    <tr>\n      <th>4</th>\n      <td>TT1DyeqXaaJkt6UhVYFWUXBXknaXnBudTK</td>\n      <td>2,370,000,000</td>\n      <td>trc20</td>\n      <td>NaN</td>\n    </tr>\n    <tr>\n      <th>5</th>\n      <td>0xbebc44782c7db0a1a60cb6fe97d0b483032ff1c7</td>\n      <td>1,863,524,809</td>\n      <td>erc20</td>\n      <td>NaN</td>\n    </tr>\n    <tr>\n      <th>6</th>\n      <td>0xa929022c9107643515f5c777ce9a910f0d1e490c</td>\n      <td>1,799,936,287</td>\n      <td>erc20</td>\n      <td>NaN</td>\n    </tr>\n    <tr>\n      <th>7</th>\n      <td>TM1zzNDZD2DPASbKcgdVoTYhfmYgtfwx9R</td>\n      <td>1,633,202,568</td>\n      <td>trc20</td>\n      <td>NaN</td>\n    </tr>\n    <tr>\n      <th>8</th>\n      <td>0x47ac0fb4f2d84898e4d9e7b4dab3c24507a6d503</td>\n      <td>1,350,000,115</td>\n      <td>erc20</td>\n      <td>NaN</td>\n    </tr>\n    <tr>\n      <th>9</th>\n      <td>TRYL7PKCG4b4xRCM554Q5J6o8f1UjUmfnY</td>\n      <td>1,143,275,352</td>\n      <td>trc20</td>\n      <td>NaN</td>\n    </tr>\n    <tr>\n      <th>10</th>\n      <td>0x5041ed759dd4afc3a72b8192c143f72f4724081a</td>\n      <td>950,965,656</td>\n      <td>erc20</td>\n      <td>NaN</td>\n    </tr>\n    <tr>\n      <th>11</th>\n      <td>TUAVzJ916T7z6oqpdCCaTv6ipC2mmBMJev</td>\n      <td>929,999,875</td>\n      <td>trc20</td>\n      <td>NaN</td>\n    </tr>\n    <tr>\n      <th>12</th>\n      <td>0xd6216fc19db775df9774a6e33526131da7d19a2c</td>\n      <td>866,664,734</td>\n      <td>erc20</td>\n      <td>NaN</td>\n    </tr>\n    <tr>\n      <th>13</th>\n      <td>TNaRAoLUyYEV2uF7GUrzSjRQTU8v5ZJ5VR</td>\n      <td>845,665,257</td>\n      <td>trc20</td>\n      <td>Huobi</td>\n    </tr>\n    <tr>\n      <th>14</th>\n      <td>0xe78388b4ce79068e89bf8aa7f218ef6b9ab0e9d0</td>\n      <td>814,605,284</td>\n      <td>erc20</td>\n      <td>NaN</td>\n    </tr>\n    <tr>\n      <th>15</th>\n      <td>0xa7a93fd0a276fc1c0197a5b5623ed117786eed06</td>\n      <td>561,893,079</td>\n      <td>erc20</td>\n      <td>NaN</td>\n    </tr>\n    <tr>\n      <th>16</th>\n      <td>TKHuVq1oKVruCGLvqVexFs6dawKv6fQgFs</td>\n      <td>478,458,238</td>\n      <td>trc20</td>\n      <td>Tether Treasury</td>\n    </tr>\n    <tr>\n      <th>17</th>\n      <td>1NTMakcgVwQpMdGxRQnFKyb3G1FAJysSfz</td>\n      <td>434,260,601</td>\n      <td>omni</td>\n      <td>Tether Treasury</td>\n    </tr>\n    <tr>\n      <th>18</th>\n      <td>TYDzsYUEpvnYmQk4zGP9sWWcTEd2MiAtW6</td>\n      <td>398,999,413</td>\n      <td>trc20</td>\n      <td>NaN</td>\n    </tr>\n    <tr>\n      <th>19</th>\n      <td>0x40ec5b33f54e0e8a33a975908c5ba1c14e5bbbdf</td>\n      <td>357,288,607</td>\n      <td>erc20</td>\n      <td>NaN</td>\n    </tr>\n    <tr>\n      <th>20</th>\n      <td>0xd51a44d3fae010294c616388b506acda1bfaae46</td>\n      <td>301,577,759</td>\n      <td>erc20</td>\n      <td>NaN</td>\n    </tr>\n    <tr>\n      <th>21</th>\n      <td>TFK83A41pUspJ1Sd766eU2cD2ktufz9tth</td>\n      <td>286,854,047</td>\n      <td>trc20</td>\n      <td>NaN</td>\n    </tr>\n    <tr>\n      <th>22</th>\n      <td>TTd9qHyjqiUkfTxe3gotbuTMpjU8LEbpkN</td>\n      <td>279,336,726</td>\n      <td>trc20</td>\n      <td>NaN</td>\n    </tr>\n    <tr>\n      <th>23</th>\n      <td>0x89e51fa8ca5d66cd220baed62ed01e8951aa7c40</td>\n      <td>277,134,605</td>\n      <td>erc20</td>\n      <td>NaN</td>\n    </tr>\n    <tr>\n      <th>24</th>\n      <td>TRfb9GWAwAdBHojbeafP4zHtL4DSntzPgc</td>\n      <td>269,391,059</td>\n      <td>trc20</td>\n      <td>NaN</td>\n    </tr>\n    <tr>\n      <th>25</th>\n      <td>0xf650c3d88d12db855b8bf7d11be6c55a4e07dcc9</td>\n      <td>250,280,301</td>\n      <td>erc20</td>\n      <td>NaN</td>\n    </tr>\n    <tr>\n      <th>26</th>\n      <td>0xf5565f298d47c95de222d0e242a69d2711fe3e89</td>\n      <td>247,579,690</td>\n      <td>erc20</td>\n      <td>NaN</td>\n    </tr>\n    <tr>\n      <th>27</th>\n      <td>0x0548f59fee79f8832c299e01dca5c76f034f558e</td>\n      <td>244,795,183</td>\n      <td>erc20</td>\n      <td>NaN</td>\n    </tr>\n    <tr>\n      <th>28</th>\n      <td>0x1bf68a9d1eaee7826b3593c20a0ca93293cb489a</td>\n      <td>237,895,298</td>\n      <td>erc20</td>\n      <td>NaN</td>\n    </tr>\n    <tr>\n      <th>29</th>\n      <td>0x23ddd3e3692d1861ed57ede224608875809e127f</td>\n      <td>204,167,907</td>\n      <td>erc20</td>\n      <td>NaN</td>\n    </tr>\n    <tr>\n      <th>30</th>\n      <td>TXJgMdjVX5dKiQaUi9QobwNxtSQaFqccvd</td>\n      <td>199,567,747</td>\n      <td>trc20</td>\n      <td>NaN</td>\n    </tr>\n    <tr>\n      <th>31</th>\n      <td>0xcee284f754e854890e311e3280b767f80797180d</td>\n      <td>197,379,890</td>\n      <td>erc20</td>\n      <td>NaN</td>\n    </tr>\n    <tr>\n      <th>32</th>\n      <td>0xc564ee9f21ed8a2d8e7e76c085740d5e4c5fafbe</td>\n      <td>180,260,659</td>\n      <td>erc20</td>\n      <td>NaN</td>\n    </tr>\n    <tr>\n      <th>33</th>\n      <td>0x48759f220ed983db51fa7a8c0d2aab8f3ce4166a</td>\n      <td>175,775,221</td>\n      <td>erc20</td>\n      <td>NaN</td>\n    </tr>\n    <tr>\n      <th>34</th>\n      <td>TKcEU8ekq2ZoFzLSGFYCUY6aocJBX9X31b</td>\n      <td>167,177,338</td>\n      <td>trc20</td>\n      <td>NaN</td>\n    </tr>\n    <tr>\n      <th>35</th>\n      <td>TM6JqAKu4Wnxm99Gps2ZGrrD6QYbdthkpg</td>\n      <td>164,799,994</td>\n      <td>trc20</td>\n      <td>NaN</td>\n    </tr>\n    <tr>\n      <th>36</th>\n      <td>TGxFNkH6V79kGF5ugiEfsYVfpV9nZNnpji</td>\n      <td>160,746,747</td>\n      <td>trc20</td>\n      <td>NaN</td>\n    </tr>\n    <tr>\n      <th>37</th>\n      <td>0x6002b1dcb26e7b1aa797a17551c6f487923299d7</td>\n      <td>153,939,622</td>\n      <td>erc20</td>\n      <td>NaN</td>\n    </tr>\n    <tr>\n      <th>38</th>\n      <td>0x0d0707963952f2fba59dd06f2b425ace40b492fe</td>\n      <td>148,898,720</td>\n      <td>erc20</td>\n      <td>NaN</td>\n    </tr>\n    <tr>\n      <th>39</th>\n      <td>0x742d35cc6634c0532925a3b844bc454e4438f44e</td>\n      <td>148,483,376</td>\n      <td>erc20</td>\n      <td>NaN</td>\n    </tr>\n    <tr>\n      <th>40</th>\n      <td>0x28c6c06298d514db089934071355e5743bf21d60</td>\n      <td>144,714,269</td>\n      <td>erc20</td>\n      <td>NaN</td>\n    </tr>\n    <tr>\n      <th>41</th>\n      <td>TAzsQ9Gx8eqFNFSKbeXrbi45CuVPHzA8wr</td>\n      <td>141,705,540</td>\n      <td>trc20</td>\n      <td>NaN</td>\n    </tr>\n    <tr>\n      <th>42</th>\n      <td>0xeea81c4416d71cef071224611359f6f99a4c4294</td>\n      <td>140,833,319</td>\n      <td>erc20</td>\n      <td>NaN</td>\n    </tr>\n    <tr>\n      <th>43</th>\n      <td>0x7d812b62dc15e6f4073eba8a2ba8db19c4e40704</td>\n      <td>139,953,536</td>\n      <td>erc20</td>\n      <td>NaN</td>\n    </tr>\n    <tr>\n      <th>44</th>\n      <td>0x6262998ced04146fa42253a5c0af90ca02dfd2a3</td>\n      <td>138,995,597</td>\n      <td>erc20</td>\n      <td>NaN</td>\n    </tr>\n    <tr>\n      <th>45</th>\n      <td>TYASr5UV6HEcXatwdFQfmLVUqQQQMUxHLS</td>\n      <td>130,745,390</td>\n      <td>trc20</td>\n      <td>NaN</td>\n    </tr>\n    <tr>\n      <th>46</th>\n      <td>TQrY8tryqsYVCYS3MFbtffiPp2ccyn4STm</td>\n      <td>126,586,122</td>\n      <td>trc20</td>\n      <td>NaN</td>\n    </tr>\n    <tr>\n      <th>47</th>\n      <td>TBA6CypYJizwA9XdC7Ubgc5F1bxrQ7SqPt</td>\n      <td>125,377,107</td>\n      <td>trc20</td>\n      <td>NaN</td>\n    </tr>\n    <tr>\n      <th>48</th>\n      <td>TJDENsfBJs4RFETt1X1W8wMDc8M5XnJhCe</td>\n      <td>120,934,856</td>\n      <td>trc20</td>\n      <td>NaN</td>\n    </tr>\n    <tr>\n      <th>49</th>\n      <td>0x3ed3b47dd13ec9a98b44e6204a523e766b225811</td>\n      <td>120,767,962</td>\n      <td>erc20</td>\n      <td>NaN</td>\n    </tr>\n  </tbody>\n</table>\n</div>"
     },
     "execution_count": 12,
     "metadata": {},
     "output_type": "execute_result"
    }
   ],
   "source": [
    "top_address = read_csv('https://bitbucket.org/jarvislabs/jarvis-data/raw/199d187ce0ccb2587463ecfe756b5d17d8ff6711/usdt-top-wallets.csv', index_col=0)\n",
    "top_address"
   ],
   "metadata": {
    "collapsed": false,
    "pycharm": {
     "name": "#%%\n"
    }
   }
  },
  {
   "cell_type": "code",
   "execution_count": null,
   "outputs": [],
   "source": [],
   "metadata": {
    "collapsed": false,
    "pycharm": {
     "name": "#%%\n"
    }
   }
  }
 ],
 "metadata": {
  "kernelspec": {
   "display_name": "Python 3",
   "language": "python",
   "name": "python3"
  },
  "language_info": {
   "codemirror_mode": {
    "name": "ipython",
    "version": 2
   },
   "file_extension": ".py",
   "mimetype": "text/x-python",
   "name": "python",
   "nbconvert_exporter": "python",
   "pygments_lexer": "ipython2",
   "version": "2.7.6"
  }
 },
 "nbformat": 4,
 "nbformat_minor": 0
}