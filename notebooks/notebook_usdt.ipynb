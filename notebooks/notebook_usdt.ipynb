{
 "cells": [
  {
   "cell_type": "code",
   "execution_count": 1,
   "metadata": {
    "collapsed": true
   },
   "outputs": [],
   "source": [
    "from undetected_chromedriver import Chrome, ChromeOptions\n",
    "from selenium.webdriver.common.by import By\n",
    "\n",
    "from time import sleep\n",
    "\n",
    "from pandas import DataFrame, read_csv"
   ]
  },
  {
   "cell_type": "code",
   "execution_count": 7,
   "outputs": [],
   "source": [
    "chrome_options = ChromeOptions()\n",
    "chrome_options.add_argument(\"--headless\")\n",
    "driver = Chrome(options=chrome_options)"
   ],
   "metadata": {
    "collapsed": false,
    "pycharm": {
     "name": "#%%\n"
    }
   }
  },
  {
   "cell_type": "code",
   "execution_count": 8,
   "outputs": [],
   "source": [
    "driver.get(\"https://wallet.tether.to/richlist\")\n",
    "sleep(1)"
   ],
   "metadata": {
    "collapsed": false,
    "pycharm": {
     "name": "#%%\n"
    }
   }
  },
  {
   "cell_type": "code",
   "execution_count": 9,
   "outputs": [
    {
     "data": {
      "text/plain": "0"
     },
     "execution_count": 9,
     "metadata": {},
     "output_type": "execute_result"
    }
   ],
   "source": [
    "rows = driver.find_elements(By.TAG_NAME, \"tr\")\n",
    "len(rows)"
   ],
   "metadata": {
    "collapsed": false,
    "pycharm": {
     "name": "#%%\n"
    }
   }
  },
  {
   "cell_type": "code",
   "execution_count": 5,
   "outputs": [
    {
     "data": {
      "text/plain": "Empty DataFrame\nColumns: [Address, Balance, Protocol, Remark]\nIndex: []",
      "text/html": "<div>\n<style scoped>\n    .dataframe tbody tr th:only-of-type {\n        vertical-align: middle;\n    }\n\n    .dataframe tbody tr th {\n        vertical-align: top;\n    }\n\n    .dataframe thead th {\n        text-align: right;\n    }\n</style>\n<table border=\"1\" class=\"dataframe\">\n  <thead>\n    <tr style=\"text-align: right;\">\n      <th></th>\n      <th>Address</th>\n      <th>Balance</th>\n      <th>Protocol</th>\n      <th>Remark</th>\n    </tr>\n  </thead>\n  <tbody>\n  </tbody>\n</table>\n</div>"
     },
     "execution_count": 5,
     "metadata": {},
     "output_type": "execute_result"
    }
   ],
   "source": [
    "top_address = DataFrame(columns=list(map(lambda x: x.text, rows[0].find_elements(By.TAG_NAME, \"th\"))))\n",
    "top_address"
   ],
   "metadata": {
    "collapsed": false,
    "pycharm": {
     "name": "#%%\n"
    }
   }
  },
  {
   "cell_type": "code",
   "execution_count": 6,
   "outputs": [
    {
     "data": {
      "text/plain": "                                       Address        Balance Protocol  \\\n0           TWd4WrZ9wn84f5x1hZhL4DHvk738ns5jwb  8,352,381,507    trc20   \n1           TMuA6YqfCeX8EhbfYEg5y7S4DqzSJireY9  7,000,000,001    trc20   \n2           TV6MuMXfmLbBqPZvBHdwFsDnQeVfnmiuSi  2,496,541,220    trc20   \n3   0x5754284f345afc66a98fbb0a0afe71e0f007b949  2,413,396,944    erc20   \n4           TT1DyeqXaaJkt6UhVYFWUXBXknaXnBudTK  2,370,000,000    trc20   \n5   0xbebc44782c7db0a1a60cb6fe97d0b483032ff1c7  1,863,524,809    erc20   \n6   0xa929022c9107643515f5c777ce9a910f0d1e490c  1,799,936,287    erc20   \n7           TM1zzNDZD2DPASbKcgdVoTYhfmYgtfwx9R  1,633,202,568    trc20   \n8   0x47ac0fb4f2d84898e4d9e7b4dab3c24507a6d503  1,350,000,115    erc20   \n9           TRYL7PKCG4b4xRCM554Q5J6o8f1UjUmfnY  1,143,275,352    trc20   \n10  0x5041ed759dd4afc3a72b8192c143f72f4724081a    950,965,656    erc20   \n11          TUAVzJ916T7z6oqpdCCaTv6ipC2mmBMJev    929,999,875    trc20   \n12  0xd6216fc19db775df9774a6e33526131da7d19a2c    866,664,734    erc20   \n13          TNaRAoLUyYEV2uF7GUrzSjRQTU8v5ZJ5VR    845,665,257    trc20   \n14  0xe78388b4ce79068e89bf8aa7f218ef6b9ab0e9d0    814,605,284    erc20   \n15  0xa7a93fd0a276fc1c0197a5b5623ed117786eed06    561,893,079    erc20   \n16          TKHuVq1oKVruCGLvqVexFs6dawKv6fQgFs    478,458,238    trc20   \n17          1NTMakcgVwQpMdGxRQnFKyb3G1FAJysSfz    434,260,601     omni   \n18          TYDzsYUEpvnYmQk4zGP9sWWcTEd2MiAtW6    398,999,413    trc20   \n19  0x40ec5b33f54e0e8a33a975908c5ba1c14e5bbbdf    357,288,607    erc20   \n20  0xd51a44d3fae010294c616388b506acda1bfaae46    301,577,759    erc20   \n21          TFK83A41pUspJ1Sd766eU2cD2ktufz9tth    286,854,047    trc20   \n22          TTd9qHyjqiUkfTxe3gotbuTMpjU8LEbpkN    279,336,726    trc20   \n23  0x89e51fa8ca5d66cd220baed62ed01e8951aa7c40    277,134,605    erc20   \n24          TRfb9GWAwAdBHojbeafP4zHtL4DSntzPgc    269,391,059    trc20   \n25  0xf650c3d88d12db855b8bf7d11be6c55a4e07dcc9    250,280,301    erc20   \n26  0xf5565f298d47c95de222d0e242a69d2711fe3e89    247,579,690    erc20   \n27  0x0548f59fee79f8832c299e01dca5c76f034f558e    244,795,183    erc20   \n28  0x1bf68a9d1eaee7826b3593c20a0ca93293cb489a    237,895,298    erc20   \n29  0x23ddd3e3692d1861ed57ede224608875809e127f    204,167,907    erc20   \n30          TXJgMdjVX5dKiQaUi9QobwNxtSQaFqccvd    199,567,747    trc20   \n31  0xcee284f754e854890e311e3280b767f80797180d    197,379,890    erc20   \n32  0xc564ee9f21ed8a2d8e7e76c085740d5e4c5fafbe    180,260,659    erc20   \n33  0x48759f220ed983db51fa7a8c0d2aab8f3ce4166a    175,775,221    erc20   \n34          TKcEU8ekq2ZoFzLSGFYCUY6aocJBX9X31b    167,177,338    trc20   \n35          TM6JqAKu4Wnxm99Gps2ZGrrD6QYbdthkpg    164,799,994    trc20   \n36          TGxFNkH6V79kGF5ugiEfsYVfpV9nZNnpji    160,746,747    trc20   \n37  0x6002b1dcb26e7b1aa797a17551c6f487923299d7    153,939,622    erc20   \n38  0x0d0707963952f2fba59dd06f2b425ace40b492fe    148,898,720    erc20   \n39  0x742d35cc6634c0532925a3b844bc454e4438f44e    148,483,376    erc20   \n40  0x28c6c06298d514db089934071355e5743bf21d60    144,714,269    erc20   \n41          TAzsQ9Gx8eqFNFSKbeXrbi45CuVPHzA8wr    141,705,540    trc20   \n42  0xeea81c4416d71cef071224611359f6f99a4c4294    140,833,319    erc20   \n43  0x7d812b62dc15e6f4073eba8a2ba8db19c4e40704    139,953,536    erc20   \n44  0x6262998ced04146fa42253a5c0af90ca02dfd2a3    138,995,597    erc20   \n45          TYASr5UV6HEcXatwdFQfmLVUqQQQMUxHLS    130,745,390    trc20   \n46          TQrY8tryqsYVCYS3MFbtffiPp2ccyn4STm    126,586,122    trc20   \n47          TBA6CypYJizwA9XdC7Ubgc5F1bxrQ7SqPt    125,377,107    trc20   \n48          TJDENsfBJs4RFETt1X1W8wMDc8M5XnJhCe    120,934,856    trc20   \n49  0x3ed3b47dd13ec9a98b44e6204a523e766b225811    120,767,962    erc20   \n\n                 Remark  \n0   Binance Cold Wallet  \n1   Binance Cold Wallet  \n2                        \n3       Tether Treasury  \n4                        \n5                        \n6                        \n7                        \n8                        \n9                        \n10                       \n11                       \n12                       \n13                Huobi  \n14                       \n15                       \n16      Tether Treasury  \n17      Tether Treasury  \n18                       \n19                       \n20                       \n21                       \n22                       \n23                       \n24                       \n25                       \n26                       \n27                       \n28                       \n29                       \n30                       \n31                       \n32                       \n33                       \n34                       \n35                       \n36                       \n37                       \n38                       \n39                       \n40                       \n41                       \n42                       \n43                       \n44                       \n45                       \n46                       \n47                       \n48                       \n49                       ",
      "text/html": "<div>\n<style scoped>\n    .dataframe tbody tr th:only-of-type {\n        vertical-align: middle;\n    }\n\n    .dataframe tbody tr th {\n        vertical-align: top;\n    }\n\n    .dataframe thead th {\n        text-align: right;\n    }\n</style>\n<table border=\"1\" class=\"dataframe\">\n  <thead>\n    <tr style=\"text-align: right;\">\n      <th></th>\n      <th>Address</th>\n      <th>Balance</th>\n      <th>Protocol</th>\n      <th>Remark</th>\n    </tr>\n  </thead>\n  <tbody>\n    <tr>\n      <th>0</th>\n      <td>TWd4WrZ9wn84f5x1hZhL4DHvk738ns5jwb</td>\n      <td>8,352,381,507</td>\n      <td>trc20</td>\n      <td>Binance Cold Wallet</td>\n    </tr>\n    <tr>\n      <th>1</th>\n      <td>TMuA6YqfCeX8EhbfYEg5y7S4DqzSJireY9</td>\n      <td>7,000,000,001</td>\n      <td>trc20</td>\n      <td>Binance Cold Wallet</td>\n    </tr>\n    <tr>\n      <th>2</th>\n      <td>TV6MuMXfmLbBqPZvBHdwFsDnQeVfnmiuSi</td>\n      <td>2,496,541,220</td>\n      <td>trc20</td>\n      <td></td>\n    </tr>\n    <tr>\n      <th>3</th>\n      <td>0x5754284f345afc66a98fbb0a0afe71e0f007b949</td>\n      <td>2,413,396,944</td>\n      <td>erc20</td>\n      <td>Tether Treasury</td>\n    </tr>\n    <tr>\n      <th>4</th>\n      <td>TT1DyeqXaaJkt6UhVYFWUXBXknaXnBudTK</td>\n      <td>2,370,000,000</td>\n      <td>trc20</td>\n      <td></td>\n    </tr>\n    <tr>\n      <th>5</th>\n      <td>0xbebc44782c7db0a1a60cb6fe97d0b483032ff1c7</td>\n      <td>1,863,524,809</td>\n      <td>erc20</td>\n      <td></td>\n    </tr>\n    <tr>\n      <th>6</th>\n      <td>0xa929022c9107643515f5c777ce9a910f0d1e490c</td>\n      <td>1,799,936,287</td>\n      <td>erc20</td>\n      <td></td>\n    </tr>\n    <tr>\n      <th>7</th>\n      <td>TM1zzNDZD2DPASbKcgdVoTYhfmYgtfwx9R</td>\n      <td>1,633,202,568</td>\n      <td>trc20</td>\n      <td></td>\n    </tr>\n    <tr>\n      <th>8</th>\n      <td>0x47ac0fb4f2d84898e4d9e7b4dab3c24507a6d503</td>\n      <td>1,350,000,115</td>\n      <td>erc20</td>\n      <td></td>\n    </tr>\n    <tr>\n      <th>9</th>\n      <td>TRYL7PKCG4b4xRCM554Q5J6o8f1UjUmfnY</td>\n      <td>1,143,275,352</td>\n      <td>trc20</td>\n      <td></td>\n    </tr>\n    <tr>\n      <th>10</th>\n      <td>0x5041ed759dd4afc3a72b8192c143f72f4724081a</td>\n      <td>950,965,656</td>\n      <td>erc20</td>\n      <td></td>\n    </tr>\n    <tr>\n      <th>11</th>\n      <td>TUAVzJ916T7z6oqpdCCaTv6ipC2mmBMJev</td>\n      <td>929,999,875</td>\n      <td>trc20</td>\n      <td></td>\n    </tr>\n    <tr>\n      <th>12</th>\n      <td>0xd6216fc19db775df9774a6e33526131da7d19a2c</td>\n      <td>866,664,734</td>\n      <td>erc20</td>\n      <td></td>\n    </tr>\n    <tr>\n      <th>13</th>\n      <td>TNaRAoLUyYEV2uF7GUrzSjRQTU8v5ZJ5VR</td>\n      <td>845,665,257</td>\n      <td>trc20</td>\n      <td>Huobi</td>\n    </tr>\n    <tr>\n      <th>14</th>\n      <td>0xe78388b4ce79068e89bf8aa7f218ef6b9ab0e9d0</td>\n      <td>814,605,284</td>\n      <td>erc20</td>\n      <td></td>\n    </tr>\n    <tr>\n      <th>15</th>\n      <td>0xa7a93fd0a276fc1c0197a5b5623ed117786eed06</td>\n      <td>561,893,079</td>\n      <td>erc20</td>\n      <td></td>\n    </tr>\n    <tr>\n      <th>16</th>\n      <td>TKHuVq1oKVruCGLvqVexFs6dawKv6fQgFs</td>\n      <td>478,458,238</td>\n      <td>trc20</td>\n      <td>Tether Treasury</td>\n    </tr>\n    <tr>\n      <th>17</th>\n      <td>1NTMakcgVwQpMdGxRQnFKyb3G1FAJysSfz</td>\n      <td>434,260,601</td>\n      <td>omni</td>\n      <td>Tether Treasury</td>\n    </tr>\n    <tr>\n      <th>18</th>\n      <td>TYDzsYUEpvnYmQk4zGP9sWWcTEd2MiAtW6</td>\n      <td>398,999,413</td>\n      <td>trc20</td>\n      <td></td>\n    </tr>\n    <tr>\n      <th>19</th>\n      <td>0x40ec5b33f54e0e8a33a975908c5ba1c14e5bbbdf</td>\n      <td>357,288,607</td>\n      <td>erc20</td>\n      <td></td>\n    </tr>\n    <tr>\n      <th>20</th>\n      <td>0xd51a44d3fae010294c616388b506acda1bfaae46</td>\n      <td>301,577,759</td>\n      <td>erc20</td>\n      <td></td>\n    </tr>\n    <tr>\n      <th>21</th>\n      <td>TFK83A41pUspJ1Sd766eU2cD2ktufz9tth</td>\n      <td>286,854,047</td>\n      <td>trc20</td>\n      <td></td>\n    </tr>\n    <tr>\n      <th>22</th>\n      <td>TTd9qHyjqiUkfTxe3gotbuTMpjU8LEbpkN</td>\n      <td>279,336,726</td>\n      <td>trc20</td>\n      <td></td>\n    </tr>\n    <tr>\n      <th>23</th>\n      <td>0x89e51fa8ca5d66cd220baed62ed01e8951aa7c40</td>\n      <td>277,134,605</td>\n      <td>erc20</td>\n      <td></td>\n    </tr>\n    <tr>\n      <th>24</th>\n      <td>TRfb9GWAwAdBHojbeafP4zHtL4DSntzPgc</td>\n      <td>269,391,059</td>\n      <td>trc20</td>\n      <td></td>\n    </tr>\n    <tr>\n      <th>25</th>\n      <td>0xf650c3d88d12db855b8bf7d11be6c55a4e07dcc9</td>\n      <td>250,280,301</td>\n      <td>erc20</td>\n      <td></td>\n    </tr>\n    <tr>\n      <th>26</th>\n      <td>0xf5565f298d47c95de222d0e242a69d2711fe3e89</td>\n      <td>247,579,690</td>\n      <td>erc20</td>\n      <td></td>\n    </tr>\n    <tr>\n      <th>27</th>\n      <td>0x0548f59fee79f8832c299e01dca5c76f034f558e</td>\n      <td>244,795,183</td>\n      <td>erc20</td>\n      <td></td>\n    </tr>\n    <tr>\n      <th>28</th>\n      <td>0x1bf68a9d1eaee7826b3593c20a0ca93293cb489a</td>\n      <td>237,895,298</td>\n      <td>erc20</td>\n      <td></td>\n    </tr>\n    <tr>\n      <th>29</th>\n      <td>0x23ddd3e3692d1861ed57ede224608875809e127f</td>\n      <td>204,167,907</td>\n      <td>erc20</td>\n      <td></td>\n    </tr>\n    <tr>\n      <th>30</th>\n      <td>TXJgMdjVX5dKiQaUi9QobwNxtSQaFqccvd</td>\n      <td>199,567,747</td>\n      <td>trc20</td>\n      <td></td>\n    </tr>\n    <tr>\n      <th>31</th>\n      <td>0xcee284f754e854890e311e3280b767f80797180d</td>\n      <td>197,379,890</td>\n      <td>erc20</td>\n      <td></td>\n    </tr>\n    <tr>\n      <th>32</th>\n      <td>0xc564ee9f21ed8a2d8e7e76c085740d5e4c5fafbe</td>\n      <td>180,260,659</td>\n      <td>erc20</td>\n      <td></td>\n    </tr>\n    <tr>\n      <th>33</th>\n      <td>0x48759f220ed983db51fa7a8c0d2aab8f3ce4166a</td>\n      <td>175,775,221</td>\n      <td>erc20</td>\n      <td></td>\n    </tr>\n    <tr>\n      <th>34</th>\n      <td>TKcEU8ekq2ZoFzLSGFYCUY6aocJBX9X31b</td>\n      <td>167,177,338</td>\n      <td>trc20</td>\n      <td></td>\n    </tr>\n    <tr>\n      <th>35</th>\n      <td>TM6JqAKu4Wnxm99Gps2ZGrrD6QYbdthkpg</td>\n      <td>164,799,994</td>\n      <td>trc20</td>\n      <td></td>\n    </tr>\n    <tr>\n      <th>36</th>\n      <td>TGxFNkH6V79kGF5ugiEfsYVfpV9nZNnpji</td>\n      <td>160,746,747</td>\n      <td>trc20</td>\n      <td></td>\n    </tr>\n    <tr>\n      <th>37</th>\n      <td>0x6002b1dcb26e7b1aa797a17551c6f487923299d7</td>\n      <td>153,939,622</td>\n      <td>erc20</td>\n      <td></td>\n    </tr>\n    <tr>\n      <th>38</th>\n      <td>0x0d0707963952f2fba59dd06f2b425ace40b492fe</td>\n      <td>148,898,720</td>\n      <td>erc20</td>\n      <td></td>\n    </tr>\n    <tr>\n      <th>39</th>\n      <td>0x742d35cc6634c0532925a3b844bc454e4438f44e</td>\n      <td>148,483,376</td>\n      <td>erc20</td>\n      <td></td>\n    </tr>\n    <tr>\n      <th>40</th>\n      <td>0x28c6c06298d514db089934071355e5743bf21d60</td>\n      <td>144,714,269</td>\n      <td>erc20</td>\n      <td></td>\n    </tr>\n    <tr>\n      <th>41</th>\n      <td>TAzsQ9Gx8eqFNFSKbeXrbi45CuVPHzA8wr</td>\n      <td>141,705,540</td>\n      <td>trc20</td>\n      <td></td>\n    </tr>\n    <tr>\n      <th>42</th>\n      <td>0xeea81c4416d71cef071224611359f6f99a4c4294</td>\n      <td>140,833,319</td>\n      <td>erc20</td>\n      <td></td>\n    </tr>\n    <tr>\n      <th>43</th>\n      <td>0x7d812b62dc15e6f4073eba8a2ba8db19c4e40704</td>\n      <td>139,953,536</td>\n      <td>erc20</td>\n      <td></td>\n    </tr>\n    <tr>\n      <th>44</th>\n      <td>0x6262998ced04146fa42253a5c0af90ca02dfd2a3</td>\n      <td>138,995,597</td>\n      <td>erc20</td>\n      <td></td>\n    </tr>\n    <tr>\n      <th>45</th>\n      <td>TYASr5UV6HEcXatwdFQfmLVUqQQQMUxHLS</td>\n      <td>130,745,390</td>\n      <td>trc20</td>\n      <td></td>\n    </tr>\n    <tr>\n      <th>46</th>\n      <td>TQrY8tryqsYVCYS3MFbtffiPp2ccyn4STm</td>\n      <td>126,586,122</td>\n      <td>trc20</td>\n      <td></td>\n    </tr>\n    <tr>\n      <th>47</th>\n      <td>TBA6CypYJizwA9XdC7Ubgc5F1bxrQ7SqPt</td>\n      <td>125,377,107</td>\n      <td>trc20</td>\n      <td></td>\n    </tr>\n    <tr>\n      <th>48</th>\n      <td>TJDENsfBJs4RFETt1X1W8wMDc8M5XnJhCe</td>\n      <td>120,934,856</td>\n      <td>trc20</td>\n      <td></td>\n    </tr>\n    <tr>\n      <th>49</th>\n      <td>0x3ed3b47dd13ec9a98b44e6204a523e766b225811</td>\n      <td>120,767,962</td>\n      <td>erc20</td>\n      <td></td>\n    </tr>\n  </tbody>\n</table>\n</div>"
     },
     "execution_count": 6,
     "metadata": {},
     "output_type": "execute_result"
    }
   ],
   "source": [
    "for row in rows[1:]:\n",
    "\tidx = len(top_address)\n",
    "\ttop_address.loc[idx] = list(map(lambda x: x.text, row.find_elements(By.TAG_NAME, \"td\")))\n",
    "top_address"
   ],
   "metadata": {
    "collapsed": false,
    "pycharm": {
     "name": "#%%\n"
    }
   }
  },
  {
   "cell_type": "code",
   "execution_count": 7,
   "outputs": [],
   "source": [
    "driver.quit()"
   ],
   "metadata": {
    "collapsed": false,
    "pycharm": {
     "name": "#%%\n"
    }
   }
  },
  {
   "cell_type": "code",
   "execution_count": 8,
   "outputs": [],
   "source": [
    "top_address.to_csv('~/repos/jarvis-data/usdt-top-wallets.csv')"
   ],
   "metadata": {
    "collapsed": false,
    "pycharm": {
     "name": "#%%\n"
    }
   }
  },
  {
   "cell_type": "code",
   "execution_count": 12,
   "outputs": [
    {
     "data": {
      "text/plain": "                                       Address        Balance Protocol  \\\n0           TWd4WrZ9wn84f5x1hZhL4DHvk738ns5jwb  8,352,381,507    trc20   \n1           TMuA6YqfCeX8EhbfYEg5y7S4DqzSJireY9  7,000,000,001    trc20   \n2           TV6MuMXfmLbBqPZvBHdwFsDnQeVfnmiuSi  2,496,541,220    trc20   \n3   0x5754284f345afc66a98fbb0a0afe71e0f007b949  2,413,396,944    erc20   \n4           TT1DyeqXaaJkt6UhVYFWUXBXknaXnBudTK  2,370,000,000    trc20   \n5   0xbebc44782c7db0a1a60cb6fe97d0b483032ff1c7  1,863,524,809    erc20   \n6   0xa929022c9107643515f5c777ce9a910f0d1e490c  1,799,936,287    erc20   \n7           TM1zzNDZD2DPASbKcgdVoTYhfmYgtfwx9R  1,633,202,568    trc20   \n8   0x47ac0fb4f2d84898e4d9e7b4dab3c24507a6d503  1,350,000,115    erc20   \n9           TRYL7PKCG4b4xRCM554Q5J6o8f1UjUmfnY  1,143,275,352    trc20   \n10  0x5041ed759dd4afc3a72b8192c143f72f4724081a    950,965,656    erc20   \n11          TUAVzJ916T7z6oqpdCCaTv6ipC2mmBMJev    929,999,875    trc20   \n12  0xd6216fc19db775df9774a6e33526131da7d19a2c    866,664,734    erc20   \n13          TNaRAoLUyYEV2uF7GUrzSjRQTU8v5ZJ5VR    845,665,257    trc20   \n14  0xe78388b4ce79068e89bf8aa7f218ef6b9ab0e9d0    814,605,284    erc20   \n15  0xa7a93fd0a276fc1c0197a5b5623ed117786eed06    561,893,079    erc20   \n16          TKHuVq1oKVruCGLvqVexFs6dawKv6fQgFs    478,458,238    trc20   \n17          1NTMakcgVwQpMdGxRQnFKyb3G1FAJysSfz    434,260,601     omni   \n18          TYDzsYUEpvnYmQk4zGP9sWWcTEd2MiAtW6    398,999,413    trc20   \n19  0x40ec5b33f54e0e8a33a975908c5ba1c14e5bbbdf    357,288,607    erc20   \n20  0xd51a44d3fae010294c616388b506acda1bfaae46    301,577,759    erc20   \n21          TFK83A41pUspJ1Sd766eU2cD2ktufz9tth    286,854,047    trc20   \n22          TTd9qHyjqiUkfTxe3gotbuTMpjU8LEbpkN    279,336,726    trc20   \n23  0x89e51fa8ca5d66cd220baed62ed01e8951aa7c40    277,134,605    erc20   \n24          TRfb9GWAwAdBHojbeafP4zHtL4DSntzPgc    269,391,059    trc20   \n25  0xf650c3d88d12db855b8bf7d11be6c55a4e07dcc9    250,280,301    erc20   \n26  0xf5565f298d47c95de222d0e242a69d2711fe3e89    247,579,690    erc20   \n27  0x0548f59fee79f8832c299e01dca5c76f034f558e    244,795,183    erc20   \n28  0x1bf68a9d1eaee7826b3593c20a0ca93293cb489a    237,895,298    erc20   \n29  0x23ddd3e3692d1861ed57ede224608875809e127f    204,167,907    erc20   \n30          TXJgMdjVX5dKiQaUi9QobwNxtSQaFqccvd    199,567,747    trc20   \n31  0xcee284f754e854890e311e3280b767f80797180d    197,379,890    erc20   \n32  0xc564ee9f21ed8a2d8e7e76c085740d5e4c5fafbe    180,260,659    erc20   \n33  0x48759f220ed983db51fa7a8c0d2aab8f3ce4166a    175,775,221    erc20   \n34          TKcEU8ekq2ZoFzLSGFYCUY6aocJBX9X31b    167,177,338    trc20   \n35          TM6JqAKu4Wnxm99Gps2ZGrrD6QYbdthkpg    164,799,994    trc20   \n36          TGxFNkH6V79kGF5ugiEfsYVfpV9nZNnpji    160,746,747    trc20   \n37  0x6002b1dcb26e7b1aa797a17551c6f487923299d7    153,939,622    erc20   \n38  0x0d0707963952f2fba59dd06f2b425ace40b492fe    148,898,720    erc20   \n39  0x742d35cc6634c0532925a3b844bc454e4438f44e    148,483,376    erc20   \n40  0x28c6c06298d514db089934071355e5743bf21d60    144,714,269    erc20   \n41          TAzsQ9Gx8eqFNFSKbeXrbi45CuVPHzA8wr    141,705,540    trc20   \n42  0xeea81c4416d71cef071224611359f6f99a4c4294    140,833,319    erc20   \n43  0x7d812b62dc15e6f4073eba8a2ba8db19c4e40704    139,953,536    erc20   \n44  0x6262998ced04146fa42253a5c0af90ca02dfd2a3    138,995,597    erc20   \n45          TYASr5UV6HEcXatwdFQfmLVUqQQQMUxHLS    130,745,390    trc20   \n46          TQrY8tryqsYVCYS3MFbtffiPp2ccyn4STm    126,586,122    trc20   \n47          TBA6CypYJizwA9XdC7Ubgc5F1bxrQ7SqPt    125,377,107    trc20   \n48          TJDENsfBJs4RFETt1X1W8wMDc8M5XnJhCe    120,934,856    trc20   \n49  0x3ed3b47dd13ec9a98b44e6204a523e766b225811    120,767,962    erc20   \n\n                 Remark  \n0   Binance Cold Wallet  \n1   Binance Cold Wallet  \n2                   NaN  \n3       Tether Treasury  \n4                   NaN  \n5                   NaN  \n6                   NaN  \n7                   NaN  \n8                   NaN  \n9                   NaN  \n10                  NaN  \n11                  NaN  \n12                  NaN  \n13                Huobi  \n14                  NaN  \n15                  NaN  \n16      Tether Treasury  \n17      Tether Treasury  \n18                  NaN  \n19                  NaN  \n20                  NaN  \n21                  NaN  \n22                  NaN  \n23                  NaN  \n24                  NaN  \n25                  NaN  \n26                  NaN  \n27                  NaN  \n28                  NaN  \n29                  NaN  \n30                  NaN  \n31                  NaN  \n32                  NaN  \n33                  NaN  \n34                  NaN  \n35                  NaN  \n36                  NaN  \n37                  NaN  \n38                  NaN  \n39                  NaN  \n40                  NaN  \n41                  NaN  \n42                  NaN  \n43                  NaN  \n44                  NaN  \n45                  NaN  \n46                  NaN  \n47                  NaN  \n48                  NaN  \n49                  NaN  ",
      "text/html": "<div>\n<style scoped>\n    .dataframe tbody tr th:only-of-type {\n        vertical-align: middle;\n    }\n\n    .dataframe tbody tr th {\n        vertical-align: top;\n    }\n\n    .dataframe thead th {\n        text-align: right;\n    }\n</style>\n<table border=\"1\" class=\"dataframe\">\n  <thead>\n    <tr style=\"text-align: right;\">\n      <th></th>\n      <th>Address</th>\n      <th>Balance</th>\n      <th>Protocol</th>\n      <th>Remark</th>\n    </tr>\n  </thead>\n  <tbody>\n    <tr>\n      <th>0</th>\n      <td>TWd4WrZ9wn84f5x1hZhL4DHvk738ns5jwb</td>\n      <td>8,352,381,507</td>\n      <td>trc20</td>\n      <td>Binance Cold Wallet</td>\n    </tr>\n    <tr>\n      <th>1</th>\n      <td>TMuA6YqfCeX8EhbfYEg5y7S4DqzSJireY9</td>\n      <td>7,000,000,001</td>\n      <td>trc20</td>\n      <td>Binance Cold Wallet</td>\n    </tr>\n    <tr>\n      <th>2</th>\n      <td>TV6MuMXfmLbBqPZvBHdwFsDnQeVfnmiuSi</td>\n      <td>2,496,541,220</td>\n      <td>trc20</td>\n      <td>NaN</td>\n    </tr>\n    <tr>\n      <th>3</th>\n      <td>0x5754284f345afc66a98fbb0a0afe71e0f007b949</td>\n      <td>2,413,396,944</td>\n      <td>erc20</td>\n      <td>Tether Treasury</td>\n    </tr>\n    <tr>\n      <th>4</th>\n      <td>TT1DyeqXaaJkt6UhVYFWUXBXknaXnBudTK</td>\n      <td>2,370,000,000</td>\n      <td>trc20</td>\n      <td>NaN</td>\n    </tr>\n    <tr>\n      <th>5</th>\n      <td>0xbebc44782c7db0a1a60cb6fe97d0b483032ff1c7</td>\n      <td>1,863,524,809</td>\n      <td>erc20</td>\n      <td>NaN</td>\n    </tr>\n    <tr>\n      <th>6</th>\n      <td>0xa929022c9107643515f5c777ce9a910f0d1e490c</td>\n      <td>1,799,936,287</td>\n      <td>erc20</td>\n      <td>NaN</td>\n    </tr>\n    <tr>\n      <th>7</th>\n      <td>TM1zzNDZD2DPASbKcgdVoTYhfmYgtfwx9R</td>\n      <td>1,633,202,568</td>\n      <td>trc20</td>\n      <td>NaN</td>\n    </tr>\n    <tr>\n      <th>8</th>\n      <td>0x47ac0fb4f2d84898e4d9e7b4dab3c24507a6d503</td>\n      <td>1,350,000,115</td>\n      <td>erc20</td>\n      <td>NaN</td>\n    </tr>\n    <tr>\n      <th>9</th>\n      <td>TRYL7PKCG4b4xRCM554Q5J6o8f1UjUmfnY</td>\n      <td>1,143,275,352</td>\n      <td>trc20</td>\n      <td>NaN</td>\n    </tr>\n    <tr>\n      <th>10</th>\n      <td>0x5041ed759dd4afc3a72b8192c143f72f4724081a</td>\n      <td>950,965,656</td>\n      <td>erc20</td>\n      <td>NaN</td>\n    </tr>\n    <tr>\n      <th>11</th>\n      <td>TUAVzJ916T7z6oqpdCCaTv6ipC2mmBMJev</td>\n      <td>929,999,875</td>\n      <td>trc20</td>\n      <td>NaN</td>\n    </tr>\n    <tr>\n      <th>12</th>\n      <td>0xd6216fc19db775df9774a6e33526131da7d19a2c</td>\n      <td>866,664,734</td>\n      <td>erc20</td>\n      <td>NaN</td>\n    </tr>\n    <tr>\n      <th>13</th>\n      <td>TNaRAoLUyYEV2uF7GUrzSjRQTU8v5ZJ5VR</td>\n      <td>845,665,257</td>\n      <td>trc20</td>\n      <td>Huobi</td>\n    </tr>\n    <tr>\n      <th>14</th>\n      <td>0xe78388b4ce79068e89bf8aa7f218ef6b9ab0e9d0</td>\n      <td>814,605,284</td>\n      <td>erc20</td>\n      <td>NaN</td>\n    </tr>\n    <tr>\n      <th>15</th>\n      <td>0xa7a93fd0a276fc1c0197a5b5623ed117786eed06</td>\n      <td>561,893,079</td>\n      <td>erc20</td>\n      <td>NaN</td>\n    </tr>\n    <tr>\n      <th>16</th>\n      <td>TKHuVq1oKVruCGLvqVexFs6dawKv6fQgFs</td>\n      <td>478,458,238</td>\n      <td>trc20</td>\n      <td>Tether Treasury</td>\n    </tr>\n    <tr>\n      <th>17</th>\n      <td>1NTMakcgVwQpMdGxRQnFKyb3G1FAJysSfz</td>\n      <td>434,260,601</td>\n      <td>omni</td>\n      <td>Tether Treasury</td>\n    </tr>\n    <tr>\n      <th>18</th>\n      <td>TYDzsYUEpvnYmQk4zGP9sWWcTEd2MiAtW6</td>\n      <td>398,999,413</td>\n      <td>trc20</td>\n      <td>NaN</td>\n    </tr>\n    <tr>\n      <th>19</th>\n      <td>0x40ec5b33f54e0e8a33a975908c5ba1c14e5bbbdf</td>\n      <td>357,288,607</td>\n      <td>erc20</td>\n      <td>NaN</td>\n    </tr>\n    <tr>\n      <th>20</th>\n      <td>0xd51a44d3fae010294c616388b506acda1bfaae46</td>\n      <td>301,577,759</td>\n      <td>erc20</td>\n      <td>NaN</td>\n    </tr>\n    <tr>\n      <th>21</th>\n      <td>TFK83A41pUspJ1Sd766eU2cD2ktufz9tth</td>\n      <td>286,854,047</td>\n      <td>trc20</td>\n      <td>NaN</td>\n    </tr>\n    <tr>\n      <th>22</th>\n      <td>TTd9qHyjqiUkfTxe3gotbuTMpjU8LEbpkN</td>\n      <td>279,336,726</td>\n      <td>trc20</td>\n      <td>NaN</td>\n    </tr>\n    <tr>\n      <th>23</th>\n      <td>0x89e51fa8ca5d66cd220baed62ed01e8951aa7c40</td>\n      <td>277,134,605</td>\n      <td>erc20</td>\n      <td>NaN</td>\n    </tr>\n    <tr>\n      <th>24</th>\n      <td>TRfb9GWAwAdBHojbeafP4zHtL4DSntzPgc</td>\n      <td>269,391,059</td>\n      <td>trc20</td>\n      <td>NaN</td>\n    </tr>\n    <tr>\n      <th>25</th>\n      <td>0xf650c3d88d12db855b8bf7d11be6c55a4e07dcc9</td>\n      <td>250,280,301</td>\n      <td>erc20</td>\n      <td>NaN</td>\n    </tr>\n    <tr>\n      <th>26</th>\n      <td>0xf5565f298d47c95de222d0e242a69d2711fe3e89</td>\n      <td>247,579,690</td>\n      <td>erc20</td>\n      <td>NaN</td>\n    </tr>\n    <tr>\n      <th>27</th>\n      <td>0x0548f59fee79f8832c299e01dca5c76f034f558e</td>\n      <td>244,795,183</td>\n      <td>erc20</td>\n      <td>NaN</td>\n    </tr>\n    <tr>\n      <th>28</th>\n      <td>0x1bf68a9d1eaee7826b3593c20a0ca93293cb489a</td>\n      <td>237,895,298</td>\n      <td>erc20</td>\n      <td>NaN</td>\n    </tr>\n    <tr>\n      <th>29</th>\n      <td>0x23ddd3e3692d1861ed57ede224608875809e127f</td>\n      <td>204,167,907</td>\n      <td>erc20</td>\n      <td>NaN</td>\n    </tr>\n    <tr>\n      <th>30</th>\n      <td>TXJgMdjVX5dKiQaUi9QobwNxtSQaFqccvd</td>\n      <td>199,567,747</td>\n      <td>trc20</td>\n      <td>NaN</td>\n    </tr>\n    <tr>\n      <th>31</th>\n      <td>0xcee284f754e854890e311e3280b767f80797180d</td>\n      <td>197,379,890</td>\n      <td>erc20</td>\n      <td>NaN</td>\n    </tr>\n    <tr>\n      <th>32</th>\n      <td>0xc564ee9f21ed8a2d8e7e76c085740d5e4c5fafbe</td>\n      <td>180,260,659</td>\n      <td>erc20</td>\n      <td>NaN</td>\n    </tr>\n    <tr>\n      <th>33</th>\n      <td>0x48759f220ed983db51fa7a8c0d2aab8f3ce4166a</td>\n      <td>175,775,221</td>\n      <td>erc20</td>\n      <td>NaN</td>\n    </tr>\n    <tr>\n      <th>34</th>\n      <td>TKcEU8ekq2ZoFzLSGFYCUY6aocJBX9X31b</td>\n      <td>167,177,338</td>\n      <td>trc20</td>\n      <td>NaN</td>\n    </tr>\n    <tr>\n      <th>35</th>\n      <td>TM6JqAKu4Wnxm99Gps2ZGrrD6QYbdthkpg</td>\n      <td>164,799,994</td>\n      <td>trc20</td>\n      <td>NaN</td>\n    </tr>\n    <tr>\n      <th>36</th>\n      <td>TGxFNkH6V79kGF5ugiEfsYVfpV9nZNnpji</td>\n      <td>160,746,747</td>\n      <td>trc20</td>\n      <td>NaN</td>\n    </tr>\n    <tr>\n      <th>37</th>\n      <td>0x6002b1dcb26e7b1aa797a17551c6f487923299d7</td>\n      <td>153,939,622</td>\n      <td>erc20</td>\n      <td>NaN</td>\n    </tr>\n    <tr>\n      <th>38</th>\n      <td>0x0d0707963952f2fba59dd06f2b425ace40b492fe</td>\n      <td>148,898,720</td>\n      <td>erc20</td>\n      <td>NaN</td>\n    </tr>\n    <tr>\n      <th>39</th>\n      <td>0x742d35cc6634c0532925a3b844bc454e4438f44e</td>\n      <td>148,483,376</td>\n      <td>erc20</td>\n      <td>NaN</td>\n    </tr>\n    <tr>\n      <th>40</th>\n      <td>0x28c6c06298d514db089934071355e5743bf21d60</td>\n      <td>144,714,269</td>\n      <td>erc20</td>\n      <td>NaN</td>\n    </tr>\n    <tr>\n      <th>41</th>\n      <td>TAzsQ9Gx8eqFNFSKbeXrbi45CuVPHzA8wr</td>\n      <td>141,705,540</td>\n      <td>trc20</td>\n      <td>NaN</td>\n    </tr>\n    <tr>\n      <th>42</th>\n      <td>0xeea81c4416d71cef071224611359f6f99a4c4294</td>\n      <td>140,833,319</td>\n      <td>erc20</td>\n      <td>NaN</td>\n    </tr>\n    <tr>\n      <th>43</th>\n      <td>0x7d812b62dc15e6f4073eba8a2ba8db19c4e40704</td>\n      <td>139,953,536</td>\n      <td>erc20</td>\n      <td>NaN</td>\n    </tr>\n    <tr>\n      <th>44</th>\n      <td>0x6262998ced04146fa42253a5c0af90ca02dfd2a3</td>\n      <td>138,995,597</td>\n      <td>erc20</td>\n      <td>NaN</td>\n    </tr>\n    <tr>\n      <th>45</th>\n      <td>TYASr5UV6HEcXatwdFQfmLVUqQQQMUxHLS</td>\n      <td>130,745,390</td>\n      <td>trc20</td>\n      <td>NaN</td>\n    </tr>\n    <tr>\n      <th>46</th>\n      <td>TQrY8tryqsYVCYS3MFbtffiPp2ccyn4STm</td>\n      <td>126,586,122</td>\n      <td>trc20</td>\n      <td>NaN</td>\n    </tr>\n    <tr>\n      <th>47</th>\n      <td>TBA6CypYJizwA9XdC7Ubgc5F1bxrQ7SqPt</td>\n      <td>125,377,107</td>\n      <td>trc20</td>\n      <td>NaN</td>\n    </tr>\n    <tr>\n      <th>48</th>\n      <td>TJDENsfBJs4RFETt1X1W8wMDc8M5XnJhCe</td>\n      <td>120,934,856</td>\n      <td>trc20</td>\n      <td>NaN</td>\n    </tr>\n    <tr>\n      <th>49</th>\n      <td>0x3ed3b47dd13ec9a98b44e6204a523e766b225811</td>\n      <td>120,767,962</td>\n      <td>erc20</td>\n      <td>NaN</td>\n    </tr>\n  </tbody>\n</table>\n</div>"
     },
     "execution_count": 12,
     "metadata": {},
     "output_type": "execute_result"
    }
   ],
   "source": [
    "top_address = read_csv('https://bitbucket.org/jarvislabs/jarvis-data/raw/199d187ce0ccb2587463ecfe756b5d17d8ff6711/usdt-top-wallets.csv', index_col=0)\n",
    "top_address"
   ],
   "metadata": {
    "collapsed": false,
    "pycharm": {
     "name": "#%%\n"
    }
   }
  },
  {
   "cell_type": "code",
   "execution_count": 1,
   "outputs": [],
   "source": [
    "import requests\n",
    "import san\n",
    "from dotenv import load_dotenv\n",
    "load_dotenv()\n",
    "from os import getenv\n",
    "san.ApiConfig=getenv('san_api')\n",
    "etherscan_api=getenv('etherscan_api')\n",
    "from fun import *"
   ],
   "metadata": {
    "collapsed": false,
    "pycharm": {
     "name": "#%%\n"
    }
   }
  },
  {
   "cell_type": "code",
   "execution_count": 26,
   "outputs": [],
   "source": [
    "contract_address = \"0xdAC17F958D2ee523a2206206994597C13D831ec7\"\n",
    "address = \"0xbebc44782c7db0a1a60cb6fe97d0b483032ff1c7\"\n",
    "offset=10\n",
    "sort='desc'"
   ],
   "metadata": {
    "collapsed": false,
    "pycharm": {
     "name": "#%%\n"
    }
   }
  },
  {
   "cell_type": "code",
   "execution_count": 27,
   "outputs": [],
   "source": [
    "response = requests.get(f\"https://api.etherscan.io/api?module=account&action=tokentx&contractaddress={contract_address}&address={address}&startblock=0&endblock=99999999&page=1&offset={offset}&sort={sort}&apikey={etherscan_api}\").json()"
   ],
   "metadata": {
    "collapsed": false,
    "pycharm": {
     "name": "#%%\n"
    }
   }
  },
  {
   "cell_type": "code",
   "execution_count": 28,
   "outputs": [
    {
     "data": {
      "text/plain": "{'status': '1',\n 'message': 'OK',\n 'result': [{'blockNumber': '14293919',\n   'timeStamp': '1646041990',\n   'hash': '0x5f9a67bb8a86830bfb65bd7182453d3f2a5d90f38aa64eac90d9beed3f0a4fb1',\n   'nonce': '57',\n   'blockHash': '0xdebaeff6cecccb863123ae0648f8d6d13d09d220f824277a47251ef360b39b68',\n   'from': '0x2c41a5ca635449be8d2cd997bc1a4a83ad9dfbe0',\n   'contractAddress': '0xdac17f958d2ee523a2206206994597c13d831ec7',\n   'to': '0xbebc44782c7db0a1a60cb6fe97d0b483032ff1c7',\n   'value': '37915000000',\n   'tokenName': 'Tether USD',\n   'tokenSymbol': 'USDT',\n   'tokenDecimal': '6',\n   'transactionIndex': '102',\n   'gas': '235147',\n   'gasPrice': '48808441288',\n   'gasUsed': '141061',\n   'cumulativeGasUsed': '4331349',\n   'input': 'deprecated',\n   'confirmations': '23'},\n  {'blockNumber': '14293916',\n   'timeStamp': '1646041912',\n   'hash': '0xc32b3cdeefcf5269df513023c2da9f2575c180ca4c494adde622bfb0249a14f4',\n   'nonce': '629',\n   'blockHash': '0x5b6a95e3b8cbabb9271f9c5ed3d046f14bc65941ad895e6de3826bae009b808d',\n   'from': '0xbebc44782c7db0a1a60cb6fe97d0b483032ff1c7',\n   'contractAddress': '0xdac17f958d2ee523a2206206994597c13d831ec7',\n   'to': '0x5a6a4d54456819380173272a5e8e9b9904bdf41b',\n   'value': '1062785658150',\n   'tokenName': 'Tether USD',\n   'tokenSymbol': 'USDT',\n   'tokenDecimal': '6',\n   'transactionIndex': '225',\n   'gas': '415364',\n   'gasPrice': '42606805454',\n   'gasUsed': '274442',\n   'cumulativeGasUsed': '17186122',\n   'input': 'deprecated',\n   'confirmations': '26'},\n  {'blockNumber': '14293851',\n   'timeStamp': '1646041011',\n   'hash': '0xb51b526da069256ebc76455108a6ee4c075747e19e799c1768e0b887ec295422',\n   'nonce': '1065',\n   'blockHash': '0xf32d73faffba972fe017733734c5ebb26261e42213de13f97fe18e5c69ee8d3d',\n   'from': '0xbebc44782c7db0a1a60cb6fe97d0b483032ff1c7',\n   'contractAddress': '0xdac17f958d2ee523a2206206994597c13d831ec7',\n   'to': '0x7fb610713c8404e21676c01c271bb662df6eb63c',\n   'value': '45975365190',\n   'tokenName': 'Tether USD',\n   'tokenSymbol': 'USDT',\n   'tokenDecimal': '6',\n   'transactionIndex': '301',\n   'gas': '238679',\n   'gasPrice': '41464442830',\n   'gasUsed': '148384',\n   'cumulativeGasUsed': '20949680',\n   'input': 'deprecated',\n   'confirmations': '91'},\n  {'blockNumber': '14293837',\n   'timeStamp': '1646040787',\n   'hash': '0x5db60dcedca3c44e0a6109748b826a4a6ce66fbf4ca4283907af7f9aa600ea35',\n   'nonce': '1063',\n   'blockHash': '0x061d2e4f97ce1f231a1f295de66b0cd4f2f93e8dbd4b7ff8494642c585ffc756',\n   'from': '0xbebc44782c7db0a1a60cb6fe97d0b483032ff1c7',\n   'contractAddress': '0xdac17f958d2ee523a2206206994597c13d831ec7',\n   'to': '0x7fb610713c8404e21676c01c271bb662df6eb63c',\n   'value': '9994644278',\n   'tokenName': 'Tether USD',\n   'tokenSymbol': 'USDT',\n   'tokenDecimal': '6',\n   'transactionIndex': '234',\n   'gas': '238679',\n   'gasPrice': '42734226701',\n   'gasUsed': '148384',\n   'cumulativeGasUsed': '19432658',\n   'input': 'deprecated',\n   'confirmations': '105'},\n  {'blockNumber': '14293808',\n   'timeStamp': '1646040364',\n   'hash': '0xe8ab60bb3c2e568258a4336c4abf365fa3d9ca71ce8183ecec409bb21fd85ba7',\n   'nonce': '97',\n   'blockHash': '0xffb9425ec5643d3eadc1de1b271429556c8a33b48f0b51b1e7794b6a0d87b6c6',\n   'from': '0x3b01567fa719f286dd3b9e95266723104915a3ef',\n   'contractAddress': '0xdac17f958d2ee523a2206206994597c13d831ec7',\n   'to': '0xbebc44782c7db0a1a60cb6fe97d0b483032ff1c7',\n   'value': '2748202026',\n   'tokenName': 'Tether USD',\n   'tokenSymbol': 'USDT',\n   'tokenDecimal': '6',\n   'transactionIndex': '49',\n   'gas': '259053',\n   'gasPrice': '36106701067',\n   'gasUsed': '158137',\n   'cumulativeGasUsed': '4558073',\n   'input': 'deprecated',\n   'confirmations': '134'},\n  {'blockNumber': '14293802',\n   'timeStamp': '1646040270',\n   'hash': '0x5d85d3ebf5d6c8329c78a2f95c823a142699d3a754920e6ec7a71604b234c0de',\n   'nonce': '32',\n   'blockHash': '0x86e1c11d65b85e262f1278a9631c4fb7285450819103990418d45b7eec0bc229',\n   'from': '0x4872118b19cea01704c705c4912456906f109c0b',\n   'contractAddress': '0xdac17f958d2ee523a2206206994597c13d831ec7',\n   'to': '0xbebc44782c7db0a1a60cb6fe97d0b483032ff1c7',\n   'value': '1470065000000',\n   'tokenName': 'Tether USD',\n   'tokenSymbol': 'USDT',\n   'tokenDecimal': '6',\n   'transactionIndex': '227',\n   'gas': '235180',\n   'gasPrice': '36475368618',\n   'gasUsed': '141085',\n   'cumulativeGasUsed': '20607791',\n   'input': 'deprecated',\n   'confirmations': '140'},\n  {'blockNumber': '14293789',\n   'timeStamp': '1646040113',\n   'hash': '0xd1c05c130f213dc441b485b2209dcd44e45b7f615f94ca08898757b58e2eb16e',\n   'nonce': '1123',\n   'blockHash': '0x79d44022ae5fc5c93a85f7c853b281393b5cdea761ec3451a3536956734fc088',\n   'from': '0xaa5a67c256e27a5d80712c51971408db3370927d',\n   'contractAddress': '0xdac17f958d2ee523a2206206994597c13d831ec7',\n   'to': '0xbebc44782c7db0a1a60cb6fe97d0b483032ff1c7',\n   'value': '9057000000',\n   'tokenName': 'Tether USD',\n   'tokenSymbol': 'USDT',\n   'tokenDecimal': '6',\n   'transactionIndex': '17',\n   'gas': '705235',\n   'gasPrice': '40569327663',\n   'gasUsed': '392530',\n   'cumulativeGasUsed': '1306325',\n   'input': 'deprecated',\n   'confirmations': '153'},\n  {'blockNumber': '14293738',\n   'timeStamp': '1646039333',\n   'hash': '0x236d6c4339b52d0762c49256b27e46d4e22362eac49a6920b1c8c314ea671dfe',\n   'nonce': '94',\n   'blockHash': '0xd70cbc98e03ed3287838e79c7a82716003c89b17e16dd74df002813d588ead75',\n   'from': '0xbebc44782c7db0a1a60cb6fe97d0b483032ff1c7',\n   'contractAddress': '0xdac17f958d2ee523a2206206994597c13d831ec7',\n   'to': '0xfa9a30350048b2bf66865ee20363067c66f67e58',\n   'value': '265473351',\n   'tokenName': 'Tether USD',\n   'tokenSymbol': 'USDT',\n   'tokenDecimal': '6',\n   'transactionIndex': '310',\n   'gas': '712166',\n   'gasPrice': '23883189072',\n   'gasUsed': '422019',\n   'cumulativeGasUsed': '20977265',\n   'input': 'deprecated',\n   'confirmations': '204'},\n  {'blockNumber': '14293700',\n   'timeStamp': '1646038906',\n   'hash': '0x5112d38bcfbdde1e94ebd320c19dbe224fda9b20e44f7ef542efb4f6ff3aaeb8',\n   'nonce': '115',\n   'blockHash': '0xcebd3543f9008a5e4725b4cfc4938209312ba9afbbb3fa09b372e06a8a39209b',\n   'from': '0x363f394d1a2f86169bbed6c3f32c01f30f5f05d7',\n   'contractAddress': '0xdac17f958d2ee523a2206206994597c13d831ec7',\n   'to': '0xbebc44782c7db0a1a60cb6fe97d0b483032ff1c7',\n   'value': '1241173357648',\n   'tokenName': 'Tether USD',\n   'tokenSymbol': 'USDT',\n   'tokenDecimal': '6',\n   'transactionIndex': '194',\n   'gas': '235180',\n   'gasPrice': '33631453708',\n   'gasUsed': '145885',\n   'cumulativeGasUsed': '11568007',\n   'input': 'deprecated',\n   'confirmations': '242'},\n  {'blockNumber': '14293631',\n   'timeStamp': '1646038167',\n   'hash': '0x0fd0d6018191b0a01f14feec0d6faa0adfec583c24ee4b6c8dede26aa3ccbb02',\n   'nonce': '1120',\n   'blockHash': '0xa6162f5d0d1d3a93a8ba402836f3412669e20778010d655b3bc43c38a019b7a9',\n   'from': '0xaa5a67c256e27a5d80712c51971408db3370927d',\n   'contractAddress': '0xdac17f958d2ee523a2206206994597c13d831ec7',\n   'to': '0xbebc44782c7db0a1a60cb6fe97d0b483032ff1c7',\n   'value': '10000000000',\n   'tokenName': 'Tether USD',\n   'tokenSymbol': 'USDT',\n   'tokenDecimal': '6',\n   'transactionIndex': '17',\n   'gas': '705183',\n   'gasPrice': '38989828421',\n   'gasUsed': '392501',\n   'cumulativeGasUsed': '1029770',\n   'input': 'deprecated',\n   'confirmations': '311'}]}"
     },
     "execution_count": 28,
     "metadata": {},
     "output_type": "execute_result"
    }
   ],
   "source": [
    "response"
   ],
   "metadata": {
    "collapsed": false,
    "pycharm": {
     "name": "#%%\n"
    }
   }
  },
  {
   "cell_type": "code",
   "execution_count": 29,
   "outputs": [
    {
     "name": "stdout",
     "output_type": "stream",
     "text": [
      "10\n"
     ]
    },
    {
     "data": {
      "text/plain": "[{'blockNumber': '14293919',\n  'timeStamp': '1646041990',\n  'hash': '0x5f9a67bb8a86830bfb65bd7182453d3f2a5d90f38aa64eac90d9beed3f0a4fb1',\n  'nonce': '57',\n  'blockHash': '0xdebaeff6cecccb863123ae0648f8d6d13d09d220f824277a47251ef360b39b68',\n  'from': '0x2c41a5ca635449be8d2cd997bc1a4a83ad9dfbe0',\n  'contractAddress': '0xdac17f958d2ee523a2206206994597c13d831ec7',\n  'to': '0xbebc44782c7db0a1a60cb6fe97d0b483032ff1c7',\n  'value': '37915000000',\n  'tokenName': 'Tether USD',\n  'tokenSymbol': 'USDT',\n  'tokenDecimal': '6',\n  'transactionIndex': '102',\n  'gas': '235147',\n  'gasPrice': '48808441288',\n  'gasUsed': '141061',\n  'cumulativeGasUsed': '4331349',\n  'input': 'deprecated',\n  'confirmations': '23'},\n {'blockNumber': '14293916',\n  'timeStamp': '1646041912',\n  'hash': '0xc32b3cdeefcf5269df513023c2da9f2575c180ca4c494adde622bfb0249a14f4',\n  'nonce': '629',\n  'blockHash': '0x5b6a95e3b8cbabb9271f9c5ed3d046f14bc65941ad895e6de3826bae009b808d',\n  'from': '0xbebc44782c7db0a1a60cb6fe97d0b483032ff1c7',\n  'contractAddress': '0xdac17f958d2ee523a2206206994597c13d831ec7',\n  'to': '0x5a6a4d54456819380173272a5e8e9b9904bdf41b',\n  'value': '1062785658150',\n  'tokenName': 'Tether USD',\n  'tokenSymbol': 'USDT',\n  'tokenDecimal': '6',\n  'transactionIndex': '225',\n  'gas': '415364',\n  'gasPrice': '42606805454',\n  'gasUsed': '274442',\n  'cumulativeGasUsed': '17186122',\n  'input': 'deprecated',\n  'confirmations': '26'},\n {'blockNumber': '14293851',\n  'timeStamp': '1646041011',\n  'hash': '0xb51b526da069256ebc76455108a6ee4c075747e19e799c1768e0b887ec295422',\n  'nonce': '1065',\n  'blockHash': '0xf32d73faffba972fe017733734c5ebb26261e42213de13f97fe18e5c69ee8d3d',\n  'from': '0xbebc44782c7db0a1a60cb6fe97d0b483032ff1c7',\n  'contractAddress': '0xdac17f958d2ee523a2206206994597c13d831ec7',\n  'to': '0x7fb610713c8404e21676c01c271bb662df6eb63c',\n  'value': '45975365190',\n  'tokenName': 'Tether USD',\n  'tokenSymbol': 'USDT',\n  'tokenDecimal': '6',\n  'transactionIndex': '301',\n  'gas': '238679',\n  'gasPrice': '41464442830',\n  'gasUsed': '148384',\n  'cumulativeGasUsed': '20949680',\n  'input': 'deprecated',\n  'confirmations': '91'},\n {'blockNumber': '14293837',\n  'timeStamp': '1646040787',\n  'hash': '0x5db60dcedca3c44e0a6109748b826a4a6ce66fbf4ca4283907af7f9aa600ea35',\n  'nonce': '1063',\n  'blockHash': '0x061d2e4f97ce1f231a1f295de66b0cd4f2f93e8dbd4b7ff8494642c585ffc756',\n  'from': '0xbebc44782c7db0a1a60cb6fe97d0b483032ff1c7',\n  'contractAddress': '0xdac17f958d2ee523a2206206994597c13d831ec7',\n  'to': '0x7fb610713c8404e21676c01c271bb662df6eb63c',\n  'value': '9994644278',\n  'tokenName': 'Tether USD',\n  'tokenSymbol': 'USDT',\n  'tokenDecimal': '6',\n  'transactionIndex': '234',\n  'gas': '238679',\n  'gasPrice': '42734226701',\n  'gasUsed': '148384',\n  'cumulativeGasUsed': '19432658',\n  'input': 'deprecated',\n  'confirmations': '105'},\n {'blockNumber': '14293808',\n  'timeStamp': '1646040364',\n  'hash': '0xe8ab60bb3c2e568258a4336c4abf365fa3d9ca71ce8183ecec409bb21fd85ba7',\n  'nonce': '97',\n  'blockHash': '0xffb9425ec5643d3eadc1de1b271429556c8a33b48f0b51b1e7794b6a0d87b6c6',\n  'from': '0x3b01567fa719f286dd3b9e95266723104915a3ef',\n  'contractAddress': '0xdac17f958d2ee523a2206206994597c13d831ec7',\n  'to': '0xbebc44782c7db0a1a60cb6fe97d0b483032ff1c7',\n  'value': '2748202026',\n  'tokenName': 'Tether USD',\n  'tokenSymbol': 'USDT',\n  'tokenDecimal': '6',\n  'transactionIndex': '49',\n  'gas': '259053',\n  'gasPrice': '36106701067',\n  'gasUsed': '158137',\n  'cumulativeGasUsed': '4558073',\n  'input': 'deprecated',\n  'confirmations': '134'},\n {'blockNumber': '14293802',\n  'timeStamp': '1646040270',\n  'hash': '0x5d85d3ebf5d6c8329c78a2f95c823a142699d3a754920e6ec7a71604b234c0de',\n  'nonce': '32',\n  'blockHash': '0x86e1c11d65b85e262f1278a9631c4fb7285450819103990418d45b7eec0bc229',\n  'from': '0x4872118b19cea01704c705c4912456906f109c0b',\n  'contractAddress': '0xdac17f958d2ee523a2206206994597c13d831ec7',\n  'to': '0xbebc44782c7db0a1a60cb6fe97d0b483032ff1c7',\n  'value': '1470065000000',\n  'tokenName': 'Tether USD',\n  'tokenSymbol': 'USDT',\n  'tokenDecimal': '6',\n  'transactionIndex': '227',\n  'gas': '235180',\n  'gasPrice': '36475368618',\n  'gasUsed': '141085',\n  'cumulativeGasUsed': '20607791',\n  'input': 'deprecated',\n  'confirmations': '140'},\n {'blockNumber': '14293789',\n  'timeStamp': '1646040113',\n  'hash': '0xd1c05c130f213dc441b485b2209dcd44e45b7f615f94ca08898757b58e2eb16e',\n  'nonce': '1123',\n  'blockHash': '0x79d44022ae5fc5c93a85f7c853b281393b5cdea761ec3451a3536956734fc088',\n  'from': '0xaa5a67c256e27a5d80712c51971408db3370927d',\n  'contractAddress': '0xdac17f958d2ee523a2206206994597c13d831ec7',\n  'to': '0xbebc44782c7db0a1a60cb6fe97d0b483032ff1c7',\n  'value': '9057000000',\n  'tokenName': 'Tether USD',\n  'tokenSymbol': 'USDT',\n  'tokenDecimal': '6',\n  'transactionIndex': '17',\n  'gas': '705235',\n  'gasPrice': '40569327663',\n  'gasUsed': '392530',\n  'cumulativeGasUsed': '1306325',\n  'input': 'deprecated',\n  'confirmations': '153'},\n {'blockNumber': '14293738',\n  'timeStamp': '1646039333',\n  'hash': '0x236d6c4339b52d0762c49256b27e46d4e22362eac49a6920b1c8c314ea671dfe',\n  'nonce': '94',\n  'blockHash': '0xd70cbc98e03ed3287838e79c7a82716003c89b17e16dd74df002813d588ead75',\n  'from': '0xbebc44782c7db0a1a60cb6fe97d0b483032ff1c7',\n  'contractAddress': '0xdac17f958d2ee523a2206206994597c13d831ec7',\n  'to': '0xfa9a30350048b2bf66865ee20363067c66f67e58',\n  'value': '265473351',\n  'tokenName': 'Tether USD',\n  'tokenSymbol': 'USDT',\n  'tokenDecimal': '6',\n  'transactionIndex': '310',\n  'gas': '712166',\n  'gasPrice': '23883189072',\n  'gasUsed': '422019',\n  'cumulativeGasUsed': '20977265',\n  'input': 'deprecated',\n  'confirmations': '204'},\n {'blockNumber': '14293700',\n  'timeStamp': '1646038906',\n  'hash': '0x5112d38bcfbdde1e94ebd320c19dbe224fda9b20e44f7ef542efb4f6ff3aaeb8',\n  'nonce': '115',\n  'blockHash': '0xcebd3543f9008a5e4725b4cfc4938209312ba9afbbb3fa09b372e06a8a39209b',\n  'from': '0x363f394d1a2f86169bbed6c3f32c01f30f5f05d7',\n  'contractAddress': '0xdac17f958d2ee523a2206206994597c13d831ec7',\n  'to': '0xbebc44782c7db0a1a60cb6fe97d0b483032ff1c7',\n  'value': '1241173357648',\n  'tokenName': 'Tether USD',\n  'tokenSymbol': 'USDT',\n  'tokenDecimal': '6',\n  'transactionIndex': '194',\n  'gas': '235180',\n  'gasPrice': '33631453708',\n  'gasUsed': '145885',\n  'cumulativeGasUsed': '11568007',\n  'input': 'deprecated',\n  'confirmations': '242'},\n {'blockNumber': '14293631',\n  'timeStamp': '1646038167',\n  'hash': '0x0fd0d6018191b0a01f14feec0d6faa0adfec583c24ee4b6c8dede26aa3ccbb02',\n  'nonce': '1120',\n  'blockHash': '0xa6162f5d0d1d3a93a8ba402836f3412669e20778010d655b3bc43c38a019b7a9',\n  'from': '0xaa5a67c256e27a5d80712c51971408db3370927d',\n  'contractAddress': '0xdac17f958d2ee523a2206206994597c13d831ec7',\n  'to': '0xbebc44782c7db0a1a60cb6fe97d0b483032ff1c7',\n  'value': '10000000000',\n  'tokenName': 'Tether USD',\n  'tokenSymbol': 'USDT',\n  'tokenDecimal': '6',\n  'transactionIndex': '17',\n  'gas': '705183',\n  'gasPrice': '38989828421',\n  'gasUsed': '392501',\n  'cumulativeGasUsed': '1029770',\n  'input': 'deprecated',\n  'confirmations': '311'}]"
     },
     "execution_count": 29,
     "metadata": {},
     "output_type": "execute_result"
    }
   ],
   "source": [
    "transactions = response['result']\n",
    "print(len(transactions))\n",
    "transactions"
   ],
   "metadata": {
    "collapsed": false,
    "pycharm": {
     "name": "#%%\n"
    }
   }
  },
  {
   "cell_type": "code",
   "execution_count": 21,
   "outputs": [
    {
     "data": {
      "text/plain": "  blockNumber   timeStamp                                               hash  \\\n0    14293700  1646038906  0x5112d38bcfbdde1e94ebd320c19dbe224fda9b20e44f...   \n1    14293631  1646038167  0x0fd0d6018191b0a01f14feec0d6faa0adfec583c24ee...   \n2    14293564  1646037225  0xc7ccbabd2cfff88884e2c0ce482b973651c5a5865e3a...   \n3    14293549  1646036962  0xf1fc5e6e0422c0fe7d15a6ed38f5fb40622948e42ba2...   \n4    14293547  1646036944  0x05ba151eb39746f3f4066f5d40f884bf985633061915...   \n5    14293538  1646036814  0x52ffae3356e287f0de7523b96bf28c7f597c7fb7000c...   \n6    14293523  1646036633  0x1eabf54166edf8741cad92a5d1f62fa8ed7700a406ee...   \n7    14293520  1646036598  0x9fd8f5b218c4b771d242d5bd8aca254348747dff61e7...   \n8    14293466  1646035820  0x8d519e126c651f7a13d5754e5de781eecfe95b8db6fe...   \n9    14293423  1646035346  0x4df61ab01111f917c55e81c12a69288e1b1d6f5c5a55...   \n\n  nonce                                          blockHash  \\\n0   115  0xcebd3543f9008a5e4725b4cfc4938209312ba9afbbb3...   \n1  1120  0xa6162f5d0d1d3a93a8ba402836f3412669e20778010d...   \n2  1117  0x23c8d065af90ac3d335744156705515425c03e964cac...   \n3     7  0xf8e1934dcf9f01a2b313f25077d8eb23cf0aa8f44848...   \n4    10  0x93590ed8a16d4031ff38e39b47b04454286c9377fbc9...   \n5  3297  0xfc81970efd98b9e5b129d08b4e45a55aa37d5529d574...   \n6  1813  0x6fa6ed46efb61d51bdace84d182e27561191bb3bfe93...   \n7    66  0x6af2d78e70bc6e6218c861e535bdfacce7a248b26924...   \n8   198  0xa970ce693e83c340b365d9e165252bf6e4047b153ee7...   \n9  6716  0xbc0617a6171a63d0e98e8b511cd87c93028ea32364d8...   \n\n                                         from  \\\n0  0x363f394d1a2f86169bbed6c3f32c01f30f5f05d7   \n1  0xaa5a67c256e27a5d80712c51971408db3370927d   \n2  0xaa5a67c256e27a5d80712c51971408db3370927d   \n3  0xeb7611eeab153036a63d1f6e6faac74862fd992e   \n4  0xe9360b1c8e9d659912bc1518cccdc1338402c331   \n5  0xbebc44782c7db0a1a60cb6fe97d0b483032ff1c7   \n6  0xbebc44782c7db0a1a60cb6fe97d0b483032ff1c7   \n7  0xbebc44782c7db0a1a60cb6fe97d0b483032ff1c7   \n8  0xbebc44782c7db0a1a60cb6fe97d0b483032ff1c7   \n9  0xbebc44782c7db0a1a60cb6fe97d0b483032ff1c7   \n\n                              contractAddress  \\\n0  0xdac17f958d2ee523a2206206994597c13d831ec7   \n1  0xdac17f958d2ee523a2206206994597c13d831ec7   \n2  0xdac17f958d2ee523a2206206994597c13d831ec7   \n3  0xdac17f958d2ee523a2206206994597c13d831ec7   \n4  0xdac17f958d2ee523a2206206994597c13d831ec7   \n5  0xdac17f958d2ee523a2206206994597c13d831ec7   \n6  0xdac17f958d2ee523a2206206994597c13d831ec7   \n7  0xdac17f958d2ee523a2206206994597c13d831ec7   \n8  0xdac17f958d2ee523a2206206994597c13d831ec7   \n9  0xdac17f958d2ee523a2206206994597c13d831ec7   \n\n                                           to          value   tokenName  \\\n0  0xbebc44782c7db0a1a60cb6fe97d0b483032ff1c7  1241173357648  Tether USD   \n1  0xbebc44782c7db0a1a60cb6fe97d0b483032ff1c7    10000000000  Tether USD   \n2  0xbebc44782c7db0a1a60cb6fe97d0b483032ff1c7    10000000000  Tether USD   \n3  0xbebc44782c7db0a1a60cb6fe97d0b483032ff1c7   123058000000  Tether USD   \n4  0xbebc44782c7db0a1a60cb6fe97d0b483032ff1c7   527714000000  Tether USD   \n5  0xed279fdd11ca84beef15af5d39bb4d4bee23f0ca    22564830802  Tether USD   \n6  0x62933bf74e3c3a3adea1ce935a9ccf5919c992de     1195160825  Tether USD   \n7  0x8474ddbe98f5aa3179b3b3f5942d724afcdec9f6    29769107649  Tether USD   \n8  0x1f20dfb2b2ddbef30ea7c404d31970614dc5d6b5       54633361  Tether USD   \n9  0xd632f22692fac7611d2aa1c0d552930d43caed3b    49925289112  Tether USD   \n\n  tokenSymbol tokenDecimal transactionIndex      gas     gasPrice  gasUsed  \\\n0        USDT            6              194   235180  33631453708   145885   \n1        USDT            6               17   705183  38989828421   392501   \n2        USDT            6               36   705166  44006568838   392492   \n3        USDT            6               19   307350  33954764133   192635   \n4        USDT            6              129   307350  33363294099   192635   \n5        USDT            6                0   836214  36675719644   584757   \n6        USDT            6              105   231631  35034993222   138550   \n7        USDT            6              143   928787  36474361837   554617   \n8        USDT            6               84  3019940  28041758473  1228218   \n9        USDT            6               39   700388  41262106375   285549   \n\n  cumulativeGasUsed       input confirmations  \n0          11568007  deprecated            37  \n1           1029770  deprecated           106  \n2           3090443  deprecated           173  \n3           1385654  deprecated           188  \n4           8050929  deprecated           190  \n5            584757  deprecated           199  \n6           6825384  deprecated           214  \n7           6282338  deprecated           217  \n8           7856441  deprecated           271  \n9           6129098  deprecated           314  ",
      "text/html": "<div>\n<style scoped>\n    .dataframe tbody tr th:only-of-type {\n        vertical-align: middle;\n    }\n\n    .dataframe tbody tr th {\n        vertical-align: top;\n    }\n\n    .dataframe thead th {\n        text-align: right;\n    }\n</style>\n<table border=\"1\" class=\"dataframe\">\n  <thead>\n    <tr style=\"text-align: right;\">\n      <th></th>\n      <th>blockNumber</th>\n      <th>timeStamp</th>\n      <th>hash</th>\n      <th>nonce</th>\n      <th>blockHash</th>\n      <th>from</th>\n      <th>contractAddress</th>\n      <th>to</th>\n      <th>value</th>\n      <th>tokenName</th>\n      <th>tokenSymbol</th>\n      <th>tokenDecimal</th>\n      <th>transactionIndex</th>\n      <th>gas</th>\n      <th>gasPrice</th>\n      <th>gasUsed</th>\n      <th>cumulativeGasUsed</th>\n      <th>input</th>\n      <th>confirmations</th>\n    </tr>\n  </thead>\n  <tbody>\n    <tr>\n      <th>0</th>\n      <td>14293700</td>\n      <td>1646038906</td>\n      <td>0x5112d38bcfbdde1e94ebd320c19dbe224fda9b20e44f...</td>\n      <td>115</td>\n      <td>0xcebd3543f9008a5e4725b4cfc4938209312ba9afbbb3...</td>\n      <td>0x363f394d1a2f86169bbed6c3f32c01f30f5f05d7</td>\n      <td>0xdac17f958d2ee523a2206206994597c13d831ec7</td>\n      <td>0xbebc44782c7db0a1a60cb6fe97d0b483032ff1c7</td>\n      <td>1241173357648</td>\n      <td>Tether USD</td>\n      <td>USDT</td>\n      <td>6</td>\n      <td>194</td>\n      <td>235180</td>\n      <td>33631453708</td>\n      <td>145885</td>\n      <td>11568007</td>\n      <td>deprecated</td>\n      <td>37</td>\n    </tr>\n    <tr>\n      <th>1</th>\n      <td>14293631</td>\n      <td>1646038167</td>\n      <td>0x0fd0d6018191b0a01f14feec0d6faa0adfec583c24ee...</td>\n      <td>1120</td>\n      <td>0xa6162f5d0d1d3a93a8ba402836f3412669e20778010d...</td>\n      <td>0xaa5a67c256e27a5d80712c51971408db3370927d</td>\n      <td>0xdac17f958d2ee523a2206206994597c13d831ec7</td>\n      <td>0xbebc44782c7db0a1a60cb6fe97d0b483032ff1c7</td>\n      <td>10000000000</td>\n      <td>Tether USD</td>\n      <td>USDT</td>\n      <td>6</td>\n      <td>17</td>\n      <td>705183</td>\n      <td>38989828421</td>\n      <td>392501</td>\n      <td>1029770</td>\n      <td>deprecated</td>\n      <td>106</td>\n    </tr>\n    <tr>\n      <th>2</th>\n      <td>14293564</td>\n      <td>1646037225</td>\n      <td>0xc7ccbabd2cfff88884e2c0ce482b973651c5a5865e3a...</td>\n      <td>1117</td>\n      <td>0x23c8d065af90ac3d335744156705515425c03e964cac...</td>\n      <td>0xaa5a67c256e27a5d80712c51971408db3370927d</td>\n      <td>0xdac17f958d2ee523a2206206994597c13d831ec7</td>\n      <td>0xbebc44782c7db0a1a60cb6fe97d0b483032ff1c7</td>\n      <td>10000000000</td>\n      <td>Tether USD</td>\n      <td>USDT</td>\n      <td>6</td>\n      <td>36</td>\n      <td>705166</td>\n      <td>44006568838</td>\n      <td>392492</td>\n      <td>3090443</td>\n      <td>deprecated</td>\n      <td>173</td>\n    </tr>\n    <tr>\n      <th>3</th>\n      <td>14293549</td>\n      <td>1646036962</td>\n      <td>0xf1fc5e6e0422c0fe7d15a6ed38f5fb40622948e42ba2...</td>\n      <td>7</td>\n      <td>0xf8e1934dcf9f01a2b313f25077d8eb23cf0aa8f44848...</td>\n      <td>0xeb7611eeab153036a63d1f6e6faac74862fd992e</td>\n      <td>0xdac17f958d2ee523a2206206994597c13d831ec7</td>\n      <td>0xbebc44782c7db0a1a60cb6fe97d0b483032ff1c7</td>\n      <td>123058000000</td>\n      <td>Tether USD</td>\n      <td>USDT</td>\n      <td>6</td>\n      <td>19</td>\n      <td>307350</td>\n      <td>33954764133</td>\n      <td>192635</td>\n      <td>1385654</td>\n      <td>deprecated</td>\n      <td>188</td>\n    </tr>\n    <tr>\n      <th>4</th>\n      <td>14293547</td>\n      <td>1646036944</td>\n      <td>0x05ba151eb39746f3f4066f5d40f884bf985633061915...</td>\n      <td>10</td>\n      <td>0x93590ed8a16d4031ff38e39b47b04454286c9377fbc9...</td>\n      <td>0xe9360b1c8e9d659912bc1518cccdc1338402c331</td>\n      <td>0xdac17f958d2ee523a2206206994597c13d831ec7</td>\n      <td>0xbebc44782c7db0a1a60cb6fe97d0b483032ff1c7</td>\n      <td>527714000000</td>\n      <td>Tether USD</td>\n      <td>USDT</td>\n      <td>6</td>\n      <td>129</td>\n      <td>307350</td>\n      <td>33363294099</td>\n      <td>192635</td>\n      <td>8050929</td>\n      <td>deprecated</td>\n      <td>190</td>\n    </tr>\n    <tr>\n      <th>5</th>\n      <td>14293538</td>\n      <td>1646036814</td>\n      <td>0x52ffae3356e287f0de7523b96bf28c7f597c7fb7000c...</td>\n      <td>3297</td>\n      <td>0xfc81970efd98b9e5b129d08b4e45a55aa37d5529d574...</td>\n      <td>0xbebc44782c7db0a1a60cb6fe97d0b483032ff1c7</td>\n      <td>0xdac17f958d2ee523a2206206994597c13d831ec7</td>\n      <td>0xed279fdd11ca84beef15af5d39bb4d4bee23f0ca</td>\n      <td>22564830802</td>\n      <td>Tether USD</td>\n      <td>USDT</td>\n      <td>6</td>\n      <td>0</td>\n      <td>836214</td>\n      <td>36675719644</td>\n      <td>584757</td>\n      <td>584757</td>\n      <td>deprecated</td>\n      <td>199</td>\n    </tr>\n    <tr>\n      <th>6</th>\n      <td>14293523</td>\n      <td>1646036633</td>\n      <td>0x1eabf54166edf8741cad92a5d1f62fa8ed7700a406ee...</td>\n      <td>1813</td>\n      <td>0x6fa6ed46efb61d51bdace84d182e27561191bb3bfe93...</td>\n      <td>0xbebc44782c7db0a1a60cb6fe97d0b483032ff1c7</td>\n      <td>0xdac17f958d2ee523a2206206994597c13d831ec7</td>\n      <td>0x62933bf74e3c3a3adea1ce935a9ccf5919c992de</td>\n      <td>1195160825</td>\n      <td>Tether USD</td>\n      <td>USDT</td>\n      <td>6</td>\n      <td>105</td>\n      <td>231631</td>\n      <td>35034993222</td>\n      <td>138550</td>\n      <td>6825384</td>\n      <td>deprecated</td>\n      <td>214</td>\n    </tr>\n    <tr>\n      <th>7</th>\n      <td>14293520</td>\n      <td>1646036598</td>\n      <td>0x9fd8f5b218c4b771d242d5bd8aca254348747dff61e7...</td>\n      <td>66</td>\n      <td>0x6af2d78e70bc6e6218c861e535bdfacce7a248b26924...</td>\n      <td>0xbebc44782c7db0a1a60cb6fe97d0b483032ff1c7</td>\n      <td>0xdac17f958d2ee523a2206206994597c13d831ec7</td>\n      <td>0x8474ddbe98f5aa3179b3b3f5942d724afcdec9f6</td>\n      <td>29769107649</td>\n      <td>Tether USD</td>\n      <td>USDT</td>\n      <td>6</td>\n      <td>143</td>\n      <td>928787</td>\n      <td>36474361837</td>\n      <td>554617</td>\n      <td>6282338</td>\n      <td>deprecated</td>\n      <td>217</td>\n    </tr>\n    <tr>\n      <th>8</th>\n      <td>14293466</td>\n      <td>1646035820</td>\n      <td>0x8d519e126c651f7a13d5754e5de781eecfe95b8db6fe...</td>\n      <td>198</td>\n      <td>0xa970ce693e83c340b365d9e165252bf6e4047b153ee7...</td>\n      <td>0xbebc44782c7db0a1a60cb6fe97d0b483032ff1c7</td>\n      <td>0xdac17f958d2ee523a2206206994597c13d831ec7</td>\n      <td>0x1f20dfb2b2ddbef30ea7c404d31970614dc5d6b5</td>\n      <td>54633361</td>\n      <td>Tether USD</td>\n      <td>USDT</td>\n      <td>6</td>\n      <td>84</td>\n      <td>3019940</td>\n      <td>28041758473</td>\n      <td>1228218</td>\n      <td>7856441</td>\n      <td>deprecated</td>\n      <td>271</td>\n    </tr>\n    <tr>\n      <th>9</th>\n      <td>14293423</td>\n      <td>1646035346</td>\n      <td>0x4df61ab01111f917c55e81c12a69288e1b1d6f5c5a55...</td>\n      <td>6716</td>\n      <td>0xbc0617a6171a63d0e98e8b511cd87c93028ea32364d8...</td>\n      <td>0xbebc44782c7db0a1a60cb6fe97d0b483032ff1c7</td>\n      <td>0xdac17f958d2ee523a2206206994597c13d831ec7</td>\n      <td>0xd632f22692fac7611d2aa1c0d552930d43caed3b</td>\n      <td>49925289112</td>\n      <td>Tether USD</td>\n      <td>USDT</td>\n      <td>6</td>\n      <td>39</td>\n      <td>700388</td>\n      <td>41262106375</td>\n      <td>285549</td>\n      <td>6129098</td>\n      <td>deprecated</td>\n      <td>314</td>\n    </tr>\n  </tbody>\n</table>\n</div>"
     },
     "execution_count": 21,
     "metadata": {},
     "output_type": "execute_result"
    }
   ],
   "source": [
    "DataFrame(transactions)"
   ],
   "metadata": {
    "collapsed": false,
    "pycharm": {
     "name": "#%%\n"
    }
   }
  },
  {
   "cell_type": "code",
   "execution_count": null,
   "outputs": [],
   "source": [],
   "metadata": {
    "collapsed": false,
    "pycharm": {
     "name": "#%%\n"
    }
   }
  }
 ],
 "metadata": {
  "kernelspec": {
   "display_name": "Python 3",
   "language": "python",
   "name": "python3"
  },
  "language_info": {
   "codemirror_mode": {
    "name": "ipython",
    "version": 2
   },
   "file_extension": ".py",
   "mimetype": "text/x-python",
   "name": "python",
   "nbconvert_exporter": "python",
   "pygments_lexer": "ipython2",
   "version": "2.7.6"
  }
 },
 "nbformat": 4,
 "nbformat_minor": 0
}