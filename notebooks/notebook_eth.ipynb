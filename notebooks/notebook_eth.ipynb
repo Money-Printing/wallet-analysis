{
 "cells": [
  {
   "cell_type": "code",
   "execution_count": 42,
   "outputs": [],
   "source": [
    "from undetected_chromedriver import Chrome, ChromeOptions\n",
    "from selenium.webdriver.common.by import By\n",
    "\n",
    "from time import sleep\n",
    "\n",
    "from pandas import DataFrame"
   ],
   "metadata": {
    "collapsed": false,
    "pycharm": {
     "name": "#%%\n"
    }
   }
  },
  {
   "cell_type": "code",
   "execution_count": 43,
   "metadata": {
    "collapsed": true
   },
   "outputs": [],
   "source": [
    "chrome_options = ChromeOptions()\n",
    "chrome_options.add_argument(\"--headless\")\n",
    "driver = Chrome(options=chrome_options)"
   ]
  },
  {
   "cell_type": "code",
   "execution_count": 44,
   "outputs": [],
   "source": [
    "driver.get(\"https://etherscan.io/accounts/1?ps=100\")\n",
    "sleep(3)"
   ],
   "metadata": {
    "collapsed": false,
    "pycharm": {
     "name": "#%%\n"
    }
   }
  },
  {
   "cell_type": "code",
   "execution_count": 45,
   "outputs": [
    {
     "data": {
      "text/plain": "101"
     },
     "execution_count": 45,
     "metadata": {},
     "output_type": "execute_result"
    }
   ],
   "source": [
    "rows = driver.find_elements(By.TAG_NAME, \"tr\")\n",
    "len(rows)"
   ],
   "metadata": {
    "collapsed": false,
    "pycharm": {
     "name": "#%%\n"
    }
   }
  },
  {
   "cell_type": "code",
   "execution_count": 46,
   "outputs": [
    {
     "data": {
      "text/plain": "Empty DataFrame\nColumns: [Rank, Address, Name Tag, Balance, Percentage, Txn Count]\nIndex: []",
      "text/html": "<div>\n<style scoped>\n    .dataframe tbody tr th:only-of-type {\n        vertical-align: middle;\n    }\n\n    .dataframe tbody tr th {\n        vertical-align: top;\n    }\n\n    .dataframe thead th {\n        text-align: right;\n    }\n</style>\n<table border=\"1\" class=\"dataframe\">\n  <thead>\n    <tr style=\"text-align: right;\">\n      <th></th>\n      <th>Rank</th>\n      <th>Address</th>\n      <th>Name Tag</th>\n      <th>Balance</th>\n      <th>Percentage</th>\n      <th>Txn Count</th>\n    </tr>\n  </thead>\n  <tbody>\n  </tbody>\n</table>\n</div>"
     },
     "execution_count": 46,
     "metadata": {},
     "output_type": "execute_result"
    }
   ],
   "source": [
    "top_address = DataFrame(columns=list(map(lambda x: x.text, rows[0].find_elements(By.TAG_NAME, \"th\"))))\n",
    "top_address"
   ],
   "metadata": {
    "collapsed": false,
    "pycharm": {
     "name": "#%%\n"
    }
   }
  },
  {
   "cell_type": "code",
   "execution_count": 47,
   "outputs": [
    {
     "data": {
      "text/plain": "   Rank                                     Address               Name Tag  \\\n0     1  0x00000000219ab540356cbb839cbe05303d7705fa  Eth2 Deposit Contract   \n1     2  0xc02aaa39b223fe8d0a0e5c4f27ead9083c756cc2          Wrapped Ether   \n2     3  0xda9dfa130df4de4673b89022ee50ff26f6ea73cf              Kraken 13   \n3     4  0xbe0eb53f46cd790cd13851d5eff43d12404d33e8              Binance 7   \n4     5  0x73bceb1cd57c711feac4224d062b0f6ff338501e                          \n..  ...                                         ...                    ...   \n95   96  0x2faf487a4414fe77e2327f0bf4ae2a264a776ad2           FTX Exchange   \n96   97  0xd57479b8287666b44978255f1677e412d454d4f0                          \n97   98  0x4baf012726cb5ec7dda57bc2770798a38100c44d                          \n98   99  0x199e929999f984a01853bb64588ddfa5d2307c1c                          \n99  100  0x99e77c64f4364e1563557fef77cb268bb000e29d                          \n\n                     Balance   Percentage  Txn Count  \n0     9,016,818.000069 Ether  7.63659460%    175,651  \n1   7,701,505.75126144 Ether  6.52261998%  5,124,500  \n2        2,113,030.001 Ether  1.78958403%         64  \n3   1,996,008.34511594 Ether  1.69047513%      1,037  \n4   1,980,156.57510949 Ether  1.67704982%        444  \n..                       ...          ...        ...  \n95    148,218.11582035 Ether  0.12553006%  3,264,459  \n96     147,699.4245034 Ether  0.12509076%          4  \n97    145,000.09839497 Ether  0.12280463%          7  \n98    143,791.44883488 Ether  0.12178099%          2  \n99    141,323.65496029 Ether  0.11969094%         13  \n\n[100 rows x 6 columns]",
      "text/html": "<div>\n<style scoped>\n    .dataframe tbody tr th:only-of-type {\n        vertical-align: middle;\n    }\n\n    .dataframe tbody tr th {\n        vertical-align: top;\n    }\n\n    .dataframe thead th {\n        text-align: right;\n    }\n</style>\n<table border=\"1\" class=\"dataframe\">\n  <thead>\n    <tr style=\"text-align: right;\">\n      <th></th>\n      <th>Rank</th>\n      <th>Address</th>\n      <th>Name Tag</th>\n      <th>Balance</th>\n      <th>Percentage</th>\n      <th>Txn Count</th>\n    </tr>\n  </thead>\n  <tbody>\n    <tr>\n      <th>0</th>\n      <td>1</td>\n      <td>0x00000000219ab540356cbb839cbe05303d7705fa</td>\n      <td>Eth2 Deposit Contract</td>\n      <td>9,016,818.000069 Ether</td>\n      <td>7.63659460%</td>\n      <td>175,651</td>\n    </tr>\n    <tr>\n      <th>1</th>\n      <td>2</td>\n      <td>0xc02aaa39b223fe8d0a0e5c4f27ead9083c756cc2</td>\n      <td>Wrapped Ether</td>\n      <td>7,701,505.75126144 Ether</td>\n      <td>6.52261998%</td>\n      <td>5,124,500</td>\n    </tr>\n    <tr>\n      <th>2</th>\n      <td>3</td>\n      <td>0xda9dfa130df4de4673b89022ee50ff26f6ea73cf</td>\n      <td>Kraken 13</td>\n      <td>2,113,030.001 Ether</td>\n      <td>1.78958403%</td>\n      <td>64</td>\n    </tr>\n    <tr>\n      <th>3</th>\n      <td>4</td>\n      <td>0xbe0eb53f46cd790cd13851d5eff43d12404d33e8</td>\n      <td>Binance 7</td>\n      <td>1,996,008.34511594 Ether</td>\n      <td>1.69047513%</td>\n      <td>1,037</td>\n    </tr>\n    <tr>\n      <th>4</th>\n      <td>5</td>\n      <td>0x73bceb1cd57c711feac4224d062b0f6ff338501e</td>\n      <td></td>\n      <td>1,980,156.57510949 Ether</td>\n      <td>1.67704982%</td>\n      <td>444</td>\n    </tr>\n    <tr>\n      <th>...</th>\n      <td>...</td>\n      <td>...</td>\n      <td>...</td>\n      <td>...</td>\n      <td>...</td>\n      <td>...</td>\n    </tr>\n    <tr>\n      <th>95</th>\n      <td>96</td>\n      <td>0x2faf487a4414fe77e2327f0bf4ae2a264a776ad2</td>\n      <td>FTX Exchange</td>\n      <td>148,218.11582035 Ether</td>\n      <td>0.12553006%</td>\n      <td>3,264,459</td>\n    </tr>\n    <tr>\n      <th>96</th>\n      <td>97</td>\n      <td>0xd57479b8287666b44978255f1677e412d454d4f0</td>\n      <td></td>\n      <td>147,699.4245034 Ether</td>\n      <td>0.12509076%</td>\n      <td>4</td>\n    </tr>\n    <tr>\n      <th>97</th>\n      <td>98</td>\n      <td>0x4baf012726cb5ec7dda57bc2770798a38100c44d</td>\n      <td></td>\n      <td>145,000.09839497 Ether</td>\n      <td>0.12280463%</td>\n      <td>7</td>\n    </tr>\n    <tr>\n      <th>98</th>\n      <td>99</td>\n      <td>0x199e929999f984a01853bb64588ddfa5d2307c1c</td>\n      <td></td>\n      <td>143,791.44883488 Ether</td>\n      <td>0.12178099%</td>\n      <td>2</td>\n    </tr>\n    <tr>\n      <th>99</th>\n      <td>100</td>\n      <td>0x99e77c64f4364e1563557fef77cb268bb000e29d</td>\n      <td></td>\n      <td>141,323.65496029 Ether</td>\n      <td>0.11969094%</td>\n      <td>13</td>\n    </tr>\n  </tbody>\n</table>\n<p>100 rows × 6 columns</p>\n</div>"
     },
     "execution_count": 47,
     "metadata": {},
     "output_type": "execute_result"
    }
   ],
   "source": [
    "for row in rows[1:]:\n",
    "\tidx = len(top_address)\n",
    "\ttop_address.loc[idx] = list(map(lambda x: x.text, row.find_elements(By.TAG_NAME, \"td\")))\n",
    "top_address"
   ],
   "metadata": {
    "collapsed": false,
    "pycharm": {
     "name": "#%%\n"
    }
   }
  },
  {
   "cell_type": "code",
   "execution_count": 48,
   "outputs": [
    {
     "data": {
      "text/plain": "                                         Address               Name Tag  \\\nRank                                                                      \n1     0x00000000219ab540356cbb839cbe05303d7705fa  Eth2 Deposit Contract   \n2     0xc02aaa39b223fe8d0a0e5c4f27ead9083c756cc2          Wrapped Ether   \n3     0xda9dfa130df4de4673b89022ee50ff26f6ea73cf              Kraken 13   \n4     0xbe0eb53f46cd790cd13851d5eff43d12404d33e8              Binance 7   \n5     0x73bceb1cd57c711feac4224d062b0f6ff338501e                          \n...                                          ...                    ...   \n96    0x2faf487a4414fe77e2327f0bf4ae2a264a776ad2           FTX Exchange   \n97    0xd57479b8287666b44978255f1677e412d454d4f0                          \n98    0x4baf012726cb5ec7dda57bc2770798a38100c44d                          \n99    0x199e929999f984a01853bb64588ddfa5d2307c1c                          \n100   0x99e77c64f4364e1563557fef77cb268bb000e29d                          \n\n                       Balance   Percentage  Txn Count  \nRank                                                    \n1       9,016,818.000069 Ether  7.63659460%    175,651  \n2     7,701,505.75126144 Ether  6.52261998%  5,124,500  \n3          2,113,030.001 Ether  1.78958403%         64  \n4     1,996,008.34511594 Ether  1.69047513%      1,037  \n5     1,980,156.57510949 Ether  1.67704982%        444  \n...                        ...          ...        ...  \n96      148,218.11582035 Ether  0.12553006%  3,264,459  \n97       147,699.4245034 Ether  0.12509076%          4  \n98      145,000.09839497 Ether  0.12280463%          7  \n99      143,791.44883488 Ether  0.12178099%          2  \n100     141,323.65496029 Ether  0.11969094%         13  \n\n[100 rows x 5 columns]",
      "text/html": "<div>\n<style scoped>\n    .dataframe tbody tr th:only-of-type {\n        vertical-align: middle;\n    }\n\n    .dataframe tbody tr th {\n        vertical-align: top;\n    }\n\n    .dataframe thead th {\n        text-align: right;\n    }\n</style>\n<table border=\"1\" class=\"dataframe\">\n  <thead>\n    <tr style=\"text-align: right;\">\n      <th></th>\n      <th>Address</th>\n      <th>Name Tag</th>\n      <th>Balance</th>\n      <th>Percentage</th>\n      <th>Txn Count</th>\n    </tr>\n    <tr>\n      <th>Rank</th>\n      <th></th>\n      <th></th>\n      <th></th>\n      <th></th>\n      <th></th>\n    </tr>\n  </thead>\n  <tbody>\n    <tr>\n      <th>1</th>\n      <td>0x00000000219ab540356cbb839cbe05303d7705fa</td>\n      <td>Eth2 Deposit Contract</td>\n      <td>9,016,818.000069 Ether</td>\n      <td>7.63659460%</td>\n      <td>175,651</td>\n    </tr>\n    <tr>\n      <th>2</th>\n      <td>0xc02aaa39b223fe8d0a0e5c4f27ead9083c756cc2</td>\n      <td>Wrapped Ether</td>\n      <td>7,701,505.75126144 Ether</td>\n      <td>6.52261998%</td>\n      <td>5,124,500</td>\n    </tr>\n    <tr>\n      <th>3</th>\n      <td>0xda9dfa130df4de4673b89022ee50ff26f6ea73cf</td>\n      <td>Kraken 13</td>\n      <td>2,113,030.001 Ether</td>\n      <td>1.78958403%</td>\n      <td>64</td>\n    </tr>\n    <tr>\n      <th>4</th>\n      <td>0xbe0eb53f46cd790cd13851d5eff43d12404d33e8</td>\n      <td>Binance 7</td>\n      <td>1,996,008.34511594 Ether</td>\n      <td>1.69047513%</td>\n      <td>1,037</td>\n    </tr>\n    <tr>\n      <th>5</th>\n      <td>0x73bceb1cd57c711feac4224d062b0f6ff338501e</td>\n      <td></td>\n      <td>1,980,156.57510949 Ether</td>\n      <td>1.67704982%</td>\n      <td>444</td>\n    </tr>\n    <tr>\n      <th>...</th>\n      <td>...</td>\n      <td>...</td>\n      <td>...</td>\n      <td>...</td>\n      <td>...</td>\n    </tr>\n    <tr>\n      <th>96</th>\n      <td>0x2faf487a4414fe77e2327f0bf4ae2a264a776ad2</td>\n      <td>FTX Exchange</td>\n      <td>148,218.11582035 Ether</td>\n      <td>0.12553006%</td>\n      <td>3,264,459</td>\n    </tr>\n    <tr>\n      <th>97</th>\n      <td>0xd57479b8287666b44978255f1677e412d454d4f0</td>\n      <td></td>\n      <td>147,699.4245034 Ether</td>\n      <td>0.12509076%</td>\n      <td>4</td>\n    </tr>\n    <tr>\n      <th>98</th>\n      <td>0x4baf012726cb5ec7dda57bc2770798a38100c44d</td>\n      <td></td>\n      <td>145,000.09839497 Ether</td>\n      <td>0.12280463%</td>\n      <td>7</td>\n    </tr>\n    <tr>\n      <th>99</th>\n      <td>0x199e929999f984a01853bb64588ddfa5d2307c1c</td>\n      <td></td>\n      <td>143,791.44883488 Ether</td>\n      <td>0.12178099%</td>\n      <td>2</td>\n    </tr>\n    <tr>\n      <th>100</th>\n      <td>0x99e77c64f4364e1563557fef77cb268bb000e29d</td>\n      <td></td>\n      <td>141,323.65496029 Ether</td>\n      <td>0.11969094%</td>\n      <td>13</td>\n    </tr>\n  </tbody>\n</table>\n<p>100 rows × 5 columns</p>\n</div>"
     },
     "execution_count": 48,
     "metadata": {},
     "output_type": "execute_result"
    }
   ],
   "source": [
    "top_address.set_index('Rank', inplace=True)\n",
    "top_address"
   ],
   "metadata": {
    "collapsed": false,
    "pycharm": {
     "name": "#%%\n"
    }
   }
  },
  {
   "cell_type": "code",
   "execution_count": 49,
   "outputs": [],
   "source": [
    "driver.quit()"
   ],
   "metadata": {
    "collapsed": false,
    "pycharm": {
     "name": "#%%\n"
    }
   }
  },
  {
   "cell_type": "code",
   "execution_count": null,
   "outputs": [],
   "source": [],
   "metadata": {
    "collapsed": false,
    "pycharm": {
     "name": "#%%\n"
    }
   }
  }
 ],
 "metadata": {
  "kernelspec": {
   "display_name": "Python 3",
   "language": "python",
   "name": "python3"
  },
  "language_info": {
   "codemirror_mode": {
    "name": "ipython",
    "version": 2
   },
   "file_extension": ".py",
   "mimetype": "text/x-python",
   "name": "python",
   "nbconvert_exporter": "python",
   "pygments_lexer": "ipython2",
   "version": "2.7.6"
  }
 },
 "nbformat": 4,
 "nbformat_minor": 0
}