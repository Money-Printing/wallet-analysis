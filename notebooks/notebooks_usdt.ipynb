{
 "cells": [
  {
   "cell_type": "code",
   "execution_count": 1,
   "metadata": {
    "collapsed": true
   },
   "outputs": [],
   "source": [
    "from undetected_chromedriver import Chrome, ChromeOptions\n",
    "from selenium.webdriver.common.by import By\n",
    "\n",
    "from time import sleep\n",
    "\n",
    "from pandas import DataFrame"
   ]
  },
  {
   "cell_type": "code",
   "execution_count": 5,
   "outputs": [],
   "source": [
    "chrome_options = ChromeOptions()\n",
    "chrome_options.add_argument(\"--headless\")\n",
    "driver = Chrome(options=chrome_options)"
   ],
   "metadata": {
    "collapsed": false,
    "pycharm": {
     "name": "#%%\n"
    }
   }
  },
  {
   "cell_type": "code",
   "execution_count": 6,
   "outputs": [],
   "source": [
    "driver.get(\"https://wallet.tether.to/richlist\")\n",
    "sleep(3)"
   ],
   "metadata": {
    "collapsed": false,
    "pycharm": {
     "name": "#%%\n"
    }
   }
  },
  {
   "cell_type": "code",
   "execution_count": 7,
   "outputs": [
    {
     "data": {
      "text/plain": "51"
     },
     "execution_count": 7,
     "metadata": {},
     "output_type": "execute_result"
    }
   ],
   "source": [
    "rows = driver.find_elements(By.TAG_NAME, \"tr\")\n",
    "len(rows)"
   ],
   "metadata": {
    "collapsed": false,
    "pycharm": {
     "name": "#%%\n"
    }
   }
  },
  {
   "cell_type": "code",
   "execution_count": 8,
   "outputs": [
    {
     "data": {
      "text/plain": "Empty DataFrame\nColumns: [Address, Balance, Protocol, Remark]\nIndex: []",
      "text/html": "<div>\n<style scoped>\n    .dataframe tbody tr th:only-of-type {\n        vertical-align: middle;\n    }\n\n    .dataframe tbody tr th {\n        vertical-align: top;\n    }\n\n    .dataframe thead th {\n        text-align: right;\n    }\n</style>\n<table border=\"1\" class=\"dataframe\">\n  <thead>\n    <tr style=\"text-align: right;\">\n      <th></th>\n      <th>Address</th>\n      <th>Balance</th>\n      <th>Protocol</th>\n      <th>Remark</th>\n    </tr>\n  </thead>\n  <tbody>\n  </tbody>\n</table>\n</div>"
     },
     "execution_count": 8,
     "metadata": {},
     "output_type": "execute_result"
    }
   ],
   "source": [
    "top_address = DataFrame(columns=list(map(lambda x: x.text, rows[0].find_elements(By.TAG_NAME, \"th\"))))\n",
    "top_address"
   ],
   "metadata": {
    "collapsed": false,
    "pycharm": {
     "name": "#%%\n"
    }
   }
  },
  {
   "cell_type": "code",
   "execution_count": 9,
   "outputs": [
    {
     "data": {
      "text/plain": "                                       Address        Balance Protocol  \\\n0           TWd4WrZ9wn84f5x1hZhL4DHvk738ns5jwb  8,352,381,507    trc20   \n1           TMuA6YqfCeX8EhbfYEg5y7S4DqzSJireY9  7,000,000,001    trc20   \n2           TT1DyeqXaaJkt6UhVYFWUXBXknaXnBudTK  2,370,000,000    trc20   \n3   0x5754284f345afc66a98fbb0a0afe71e0f007b949  2,311,896,944    erc20   \n4           TV6MuMXfmLbBqPZvBHdwFsDnQeVfnmiuSi  2,279,262,909    trc20   \n5   0xbebc44782c7db0a1a60cb6fe97d0b483032ff1c7  1,942,175,194    erc20   \n6   0xa929022c9107643515f5c777ce9a910f0d1e490c  1,778,729,277    erc20   \n7           TM1zzNDZD2DPASbKcgdVoTYhfmYgtfwx9R  1,739,844,934    trc20   \n8   0x47ac0fb4f2d84898e4d9e7b4dab3c24507a6d503  1,350,000,115    erc20   \n9           TRYL7PKCG4b4xRCM554Q5J6o8f1UjUmfnY  1,200,398,328    trc20   \n10  0x5041ed759dd4afc3a72b8192c143f72f4724081a  1,024,020,797    erc20   \n11          TNaRAoLUyYEV2uF7GUrzSjRQTU8v5ZJ5VR    979,658,712    trc20   \n12          TUAVzJ916T7z6oqpdCCaTv6ipC2mmBMJev    929,999,875    trc20   \n13  0xd6216fc19db775df9774a6e33526131da7d19a2c    866,664,734    erc20   \n14  0xe78388b4ce79068e89bf8aa7f218ef6b9ab0e9d0    664,549,046    erc20   \n15  0xa7a93fd0a276fc1c0197a5b5623ed117786eed06    551,704,742    erc20   \n16          TKHuVq1oKVruCGLvqVexFs6dawKv6fQgFs    480,158,238    trc20   \n17  0x28c6c06298d514db089934071355e5743bf21d60    466,403,384    erc20   \n18          1NTMakcgVwQpMdGxRQnFKyb3G1FAJysSfz    434,260,601     omni   \n19  0x40ec5b33f54e0e8a33a975908c5ba1c14e5bbbdf    345,864,020    erc20   \n20          TTd9qHyjqiUkfTxe3gotbuTMpjU8LEbpkN    313,247,243    trc20   \n21  0xd51a44d3fae010294c616388b506acda1bfaae46    302,880,123    erc20   \n22          TYDzsYUEpvnYmQk4zGP9sWWcTEd2MiAtW6    276,154,601    trc20   \n23  0x89e51fa8ca5d66cd220baed62ed01e8951aa7c40    271,123,966    erc20   \n24  0x0548f59fee79f8832c299e01dca5c76f034f558e    260,356,232    erc20   \n25          TFK83A41pUspJ1Sd766eU2cD2ktufz9tth    250,697,996    trc20   \n26  0xf5565f298d47c95de222d0e242a69d2711fe3e89    247,579,690    erc20   \n27          TRfb9GWAwAdBHojbeafP4zHtL4DSntzPgc    245,365,722    trc20   \n28  0x1bf68a9d1eaee7826b3593c20a0ca93293cb489a    232,452,543    erc20   \n29  0xf650c3d88d12db855b8bf7d11be6c55a4e07dcc9    202,217,687    erc20   \n30          TXJgMdjVX5dKiQaUi9QobwNxtSQaFqccvd    201,649,798    trc20   \n31  0xcee284f754e854890e311e3280b767f80797180d    194,611,356    erc20   \n32  0x23ddd3e3692d1861ed57ede224608875809e127f    186,417,301    erc20   \n33  0x48759f220ed983db51fa7a8c0d2aab8f3ce4166a    183,885,615    erc20   \n34  0xc564ee9f21ed8a2d8e7e76c085740d5e4c5fafbe    171,606,166    erc20   \n35          TAzsQ9Gx8eqFNFSKbeXrbi45CuVPHzA8wr    165,412,209    trc20   \n36          TKcEU8ekq2ZoFzLSGFYCUY6aocJBX9X31b    165,333,462    trc20   \n37  0x0d0707963952f2fba59dd06f2b425ace40b492fe    162,881,490    erc20   \n38          TGxFNkH6V79kGF5ugiEfsYVfpV9nZNnpji    160,796,747    trc20   \n39  0x742d35cc6634c0532925a3b844bc454e4438f44e    158,483,376    erc20   \n40          TXFBqBbqJommqZf7BV8NNYzePh97UmJodJ    158,225,172    trc20   \n41          TM6JqAKu4Wnxm99Gps2ZGrrD6QYbdthkpg    157,599,995    trc20   \n42  0x6002b1dcb26e7b1aa797a17551c6f487923299d7    156,815,261    erc20   \n43          TJDENsfBJs4RFETt1X1W8wMDc8M5XnJhCe    146,194,266    trc20   \n44  0xeea81c4416d71cef071224611359f6f99a4c4294    140,833,319    erc20   \n45  0x7d812b62dc15e6f4073eba8a2ba8db19c4e40704    125,600,546    erc20   \n46  0x66f820a414680b5bcda5eeca5dea238543f42054    119,500,001    erc20   \n47  0xf7b2f3cd946052f8b397f801299b80f053515af9    116,000,000    erc20   \n48          TXwym1VaATMV1EEPKPmVcZ1oDK8GiB5psy    111,610,430    trc20   \n49          TTMWTPp1vonsdYBuLey3x8k6PsAvZcdR1J    107,297,573    trc20   \n\n                 Remark  \n0   Binance Cold Wallet  \n1   Binance Cold Wallet  \n2                        \n3       Tether Treasury  \n4                        \n5                        \n6                        \n7                        \n8                        \n9                        \n10                       \n11                Huobi  \n12                       \n13                       \n14                       \n15                       \n16      Tether Treasury  \n17                       \n18      Tether Treasury  \n19                       \n20                       \n21                       \n22                       \n23                       \n24                       \n25                       \n26                       \n27                       \n28                       \n29                       \n30                       \n31                       \n32                       \n33                       \n34                       \n35                       \n36                       \n37                       \n38                       \n39                       \n40             Bitfinex  \n41                       \n42                       \n43                       \n44                       \n45                       \n46              Bittrex  \n47                       \n48                       \n49                       ",
      "text/html": "<div>\n<style scoped>\n    .dataframe tbody tr th:only-of-type {\n        vertical-align: middle;\n    }\n\n    .dataframe tbody tr th {\n        vertical-align: top;\n    }\n\n    .dataframe thead th {\n        text-align: right;\n    }\n</style>\n<table border=\"1\" class=\"dataframe\">\n  <thead>\n    <tr style=\"text-align: right;\">\n      <th></th>\n      <th>Address</th>\n      <th>Balance</th>\n      <th>Protocol</th>\n      <th>Remark</th>\n    </tr>\n  </thead>\n  <tbody>\n    <tr>\n      <th>0</th>\n      <td>TWd4WrZ9wn84f5x1hZhL4DHvk738ns5jwb</td>\n      <td>8,352,381,507</td>\n      <td>trc20</td>\n      <td>Binance Cold Wallet</td>\n    </tr>\n    <tr>\n      <th>1</th>\n      <td>TMuA6YqfCeX8EhbfYEg5y7S4DqzSJireY9</td>\n      <td>7,000,000,001</td>\n      <td>trc20</td>\n      <td>Binance Cold Wallet</td>\n    </tr>\n    <tr>\n      <th>2</th>\n      <td>TT1DyeqXaaJkt6UhVYFWUXBXknaXnBudTK</td>\n      <td>2,370,000,000</td>\n      <td>trc20</td>\n      <td></td>\n    </tr>\n    <tr>\n      <th>3</th>\n      <td>0x5754284f345afc66a98fbb0a0afe71e0f007b949</td>\n      <td>2,311,896,944</td>\n      <td>erc20</td>\n      <td>Tether Treasury</td>\n    </tr>\n    <tr>\n      <th>4</th>\n      <td>TV6MuMXfmLbBqPZvBHdwFsDnQeVfnmiuSi</td>\n      <td>2,279,262,909</td>\n      <td>trc20</td>\n      <td></td>\n    </tr>\n    <tr>\n      <th>5</th>\n      <td>0xbebc44782c7db0a1a60cb6fe97d0b483032ff1c7</td>\n      <td>1,942,175,194</td>\n      <td>erc20</td>\n      <td></td>\n    </tr>\n    <tr>\n      <th>6</th>\n      <td>0xa929022c9107643515f5c777ce9a910f0d1e490c</td>\n      <td>1,778,729,277</td>\n      <td>erc20</td>\n      <td></td>\n    </tr>\n    <tr>\n      <th>7</th>\n      <td>TM1zzNDZD2DPASbKcgdVoTYhfmYgtfwx9R</td>\n      <td>1,739,844,934</td>\n      <td>trc20</td>\n      <td></td>\n    </tr>\n    <tr>\n      <th>8</th>\n      <td>0x47ac0fb4f2d84898e4d9e7b4dab3c24507a6d503</td>\n      <td>1,350,000,115</td>\n      <td>erc20</td>\n      <td></td>\n    </tr>\n    <tr>\n      <th>9</th>\n      <td>TRYL7PKCG4b4xRCM554Q5J6o8f1UjUmfnY</td>\n      <td>1,200,398,328</td>\n      <td>trc20</td>\n      <td></td>\n    </tr>\n    <tr>\n      <th>10</th>\n      <td>0x5041ed759dd4afc3a72b8192c143f72f4724081a</td>\n      <td>1,024,020,797</td>\n      <td>erc20</td>\n      <td></td>\n    </tr>\n    <tr>\n      <th>11</th>\n      <td>TNaRAoLUyYEV2uF7GUrzSjRQTU8v5ZJ5VR</td>\n      <td>979,658,712</td>\n      <td>trc20</td>\n      <td>Huobi</td>\n    </tr>\n    <tr>\n      <th>12</th>\n      <td>TUAVzJ916T7z6oqpdCCaTv6ipC2mmBMJev</td>\n      <td>929,999,875</td>\n      <td>trc20</td>\n      <td></td>\n    </tr>\n    <tr>\n      <th>13</th>\n      <td>0xd6216fc19db775df9774a6e33526131da7d19a2c</td>\n      <td>866,664,734</td>\n      <td>erc20</td>\n      <td></td>\n    </tr>\n    <tr>\n      <th>14</th>\n      <td>0xe78388b4ce79068e89bf8aa7f218ef6b9ab0e9d0</td>\n      <td>664,549,046</td>\n      <td>erc20</td>\n      <td></td>\n    </tr>\n    <tr>\n      <th>15</th>\n      <td>0xa7a93fd0a276fc1c0197a5b5623ed117786eed06</td>\n      <td>551,704,742</td>\n      <td>erc20</td>\n      <td></td>\n    </tr>\n    <tr>\n      <th>16</th>\n      <td>TKHuVq1oKVruCGLvqVexFs6dawKv6fQgFs</td>\n      <td>480,158,238</td>\n      <td>trc20</td>\n      <td>Tether Treasury</td>\n    </tr>\n    <tr>\n      <th>17</th>\n      <td>0x28c6c06298d514db089934071355e5743bf21d60</td>\n      <td>466,403,384</td>\n      <td>erc20</td>\n      <td></td>\n    </tr>\n    <tr>\n      <th>18</th>\n      <td>1NTMakcgVwQpMdGxRQnFKyb3G1FAJysSfz</td>\n      <td>434,260,601</td>\n      <td>omni</td>\n      <td>Tether Treasury</td>\n    </tr>\n    <tr>\n      <th>19</th>\n      <td>0x40ec5b33f54e0e8a33a975908c5ba1c14e5bbbdf</td>\n      <td>345,864,020</td>\n      <td>erc20</td>\n      <td></td>\n    </tr>\n    <tr>\n      <th>20</th>\n      <td>TTd9qHyjqiUkfTxe3gotbuTMpjU8LEbpkN</td>\n      <td>313,247,243</td>\n      <td>trc20</td>\n      <td></td>\n    </tr>\n    <tr>\n      <th>21</th>\n      <td>0xd51a44d3fae010294c616388b506acda1bfaae46</td>\n      <td>302,880,123</td>\n      <td>erc20</td>\n      <td></td>\n    </tr>\n    <tr>\n      <th>22</th>\n      <td>TYDzsYUEpvnYmQk4zGP9sWWcTEd2MiAtW6</td>\n      <td>276,154,601</td>\n      <td>trc20</td>\n      <td></td>\n    </tr>\n    <tr>\n      <th>23</th>\n      <td>0x89e51fa8ca5d66cd220baed62ed01e8951aa7c40</td>\n      <td>271,123,966</td>\n      <td>erc20</td>\n      <td></td>\n    </tr>\n    <tr>\n      <th>24</th>\n      <td>0x0548f59fee79f8832c299e01dca5c76f034f558e</td>\n      <td>260,356,232</td>\n      <td>erc20</td>\n      <td></td>\n    </tr>\n    <tr>\n      <th>25</th>\n      <td>TFK83A41pUspJ1Sd766eU2cD2ktufz9tth</td>\n      <td>250,697,996</td>\n      <td>trc20</td>\n      <td></td>\n    </tr>\n    <tr>\n      <th>26</th>\n      <td>0xf5565f298d47c95de222d0e242a69d2711fe3e89</td>\n      <td>247,579,690</td>\n      <td>erc20</td>\n      <td></td>\n    </tr>\n    <tr>\n      <th>27</th>\n      <td>TRfb9GWAwAdBHojbeafP4zHtL4DSntzPgc</td>\n      <td>245,365,722</td>\n      <td>trc20</td>\n      <td></td>\n    </tr>\n    <tr>\n      <th>28</th>\n      <td>0x1bf68a9d1eaee7826b3593c20a0ca93293cb489a</td>\n      <td>232,452,543</td>\n      <td>erc20</td>\n      <td></td>\n    </tr>\n    <tr>\n      <th>29</th>\n      <td>0xf650c3d88d12db855b8bf7d11be6c55a4e07dcc9</td>\n      <td>202,217,687</td>\n      <td>erc20</td>\n      <td></td>\n    </tr>\n    <tr>\n      <th>30</th>\n      <td>TXJgMdjVX5dKiQaUi9QobwNxtSQaFqccvd</td>\n      <td>201,649,798</td>\n      <td>trc20</td>\n      <td></td>\n    </tr>\n    <tr>\n      <th>31</th>\n      <td>0xcee284f754e854890e311e3280b767f80797180d</td>\n      <td>194,611,356</td>\n      <td>erc20</td>\n      <td></td>\n    </tr>\n    <tr>\n      <th>32</th>\n      <td>0x23ddd3e3692d1861ed57ede224608875809e127f</td>\n      <td>186,417,301</td>\n      <td>erc20</td>\n      <td></td>\n    </tr>\n    <tr>\n      <th>33</th>\n      <td>0x48759f220ed983db51fa7a8c0d2aab8f3ce4166a</td>\n      <td>183,885,615</td>\n      <td>erc20</td>\n      <td></td>\n    </tr>\n    <tr>\n      <th>34</th>\n      <td>0xc564ee9f21ed8a2d8e7e76c085740d5e4c5fafbe</td>\n      <td>171,606,166</td>\n      <td>erc20</td>\n      <td></td>\n    </tr>\n    <tr>\n      <th>35</th>\n      <td>TAzsQ9Gx8eqFNFSKbeXrbi45CuVPHzA8wr</td>\n      <td>165,412,209</td>\n      <td>trc20</td>\n      <td></td>\n    </tr>\n    <tr>\n      <th>36</th>\n      <td>TKcEU8ekq2ZoFzLSGFYCUY6aocJBX9X31b</td>\n      <td>165,333,462</td>\n      <td>trc20</td>\n      <td></td>\n    </tr>\n    <tr>\n      <th>37</th>\n      <td>0x0d0707963952f2fba59dd06f2b425ace40b492fe</td>\n      <td>162,881,490</td>\n      <td>erc20</td>\n      <td></td>\n    </tr>\n    <tr>\n      <th>38</th>\n      <td>TGxFNkH6V79kGF5ugiEfsYVfpV9nZNnpji</td>\n      <td>160,796,747</td>\n      <td>trc20</td>\n      <td></td>\n    </tr>\n    <tr>\n      <th>39</th>\n      <td>0x742d35cc6634c0532925a3b844bc454e4438f44e</td>\n      <td>158,483,376</td>\n      <td>erc20</td>\n      <td></td>\n    </tr>\n    <tr>\n      <th>40</th>\n      <td>TXFBqBbqJommqZf7BV8NNYzePh97UmJodJ</td>\n      <td>158,225,172</td>\n      <td>trc20</td>\n      <td>Bitfinex</td>\n    </tr>\n    <tr>\n      <th>41</th>\n      <td>TM6JqAKu4Wnxm99Gps2ZGrrD6QYbdthkpg</td>\n      <td>157,599,995</td>\n      <td>trc20</td>\n      <td></td>\n    </tr>\n    <tr>\n      <th>42</th>\n      <td>0x6002b1dcb26e7b1aa797a17551c6f487923299d7</td>\n      <td>156,815,261</td>\n      <td>erc20</td>\n      <td></td>\n    </tr>\n    <tr>\n      <th>43</th>\n      <td>TJDENsfBJs4RFETt1X1W8wMDc8M5XnJhCe</td>\n      <td>146,194,266</td>\n      <td>trc20</td>\n      <td></td>\n    </tr>\n    <tr>\n      <th>44</th>\n      <td>0xeea81c4416d71cef071224611359f6f99a4c4294</td>\n      <td>140,833,319</td>\n      <td>erc20</td>\n      <td></td>\n    </tr>\n    <tr>\n      <th>45</th>\n      <td>0x7d812b62dc15e6f4073eba8a2ba8db19c4e40704</td>\n      <td>125,600,546</td>\n      <td>erc20</td>\n      <td></td>\n    </tr>\n    <tr>\n      <th>46</th>\n      <td>0x66f820a414680b5bcda5eeca5dea238543f42054</td>\n      <td>119,500,001</td>\n      <td>erc20</td>\n      <td>Bittrex</td>\n    </tr>\n    <tr>\n      <th>47</th>\n      <td>0xf7b2f3cd946052f8b397f801299b80f053515af9</td>\n      <td>116,000,000</td>\n      <td>erc20</td>\n      <td></td>\n    </tr>\n    <tr>\n      <th>48</th>\n      <td>TXwym1VaATMV1EEPKPmVcZ1oDK8GiB5psy</td>\n      <td>111,610,430</td>\n      <td>trc20</td>\n      <td></td>\n    </tr>\n    <tr>\n      <th>49</th>\n      <td>TTMWTPp1vonsdYBuLey3x8k6PsAvZcdR1J</td>\n      <td>107,297,573</td>\n      <td>trc20</td>\n      <td></td>\n    </tr>\n  </tbody>\n</table>\n</div>"
     },
     "execution_count": 9,
     "metadata": {},
     "output_type": "execute_result"
    }
   ],
   "source": [
    "for row in rows[1:]:\n",
    "\tidx = len(top_address)\n",
    "\ttop_address.loc[idx] = list(map(lambda x: x.text, row.find_elements(By.TAG_NAME, \"td\")))\n",
    "top_address"
   ],
   "metadata": {
    "collapsed": false,
    "pycharm": {
     "name": "#%%\n"
    }
   }
  },
  {
   "cell_type": "code",
   "execution_count": 11,
   "outputs": [],
   "source": [
    "driver.quit()"
   ],
   "metadata": {
    "collapsed": false,
    "pycharm": {
     "name": "#%%\n"
    }
   }
  },
  {
   "cell_type": "code",
   "execution_count": null,
   "outputs": [],
   "source": [],
   "metadata": {
    "collapsed": false,
    "pycharm": {
     "name": "#%%\n"
    }
   }
  }
 ],
 "metadata": {
  "kernelspec": {
   "display_name": "Python 3",
   "language": "python",
   "name": "python3"
  },
  "language_info": {
   "codemirror_mode": {
    "name": "ipython",
    "version": 2
   },
   "file_extension": ".py",
   "mimetype": "text/x-python",
   "name": "python",
   "nbconvert_exporter": "python",
   "pygments_lexer": "ipython2",
   "version": "2.7.6"
  }
 },
 "nbformat": 4,
 "nbformat_minor": 0
}